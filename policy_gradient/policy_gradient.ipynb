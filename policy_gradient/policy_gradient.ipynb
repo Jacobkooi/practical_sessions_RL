{
 "cells": [
  {
   "cell_type": "markdown",
   "id": "1b0c7f42",
   "metadata": {},
   "source": [
    "# Policy Gradient --- Practical Session"
   ]
  },
  {
   "cell_type": "code",
   "execution_count": 2,
   "id": "11a6f303",
   "metadata": {},
   "outputs": [
    {
     "ename": "ModuleNotFoundError",
     "evalue": "No module named 'gym'",
     "output_type": "error",
     "traceback": [
      "\u001b[0;31m---------------------------------------------------------------------------\u001b[0m",
      "\u001b[0;31mModuleNotFoundError\u001b[0m                       Traceback (most recent call last)",
      "\u001b[0;32m<ipython-input-2-d4f453ddbb4a>\u001b[0m in \u001b[0;36m<module>\u001b[0;34m\u001b[0m\n\u001b[0;32m----> 1\u001b[0;31m \u001b[0;32mimport\u001b[0m \u001b[0mgym\u001b[0m\u001b[0;34m\u001b[0m\u001b[0;34m\u001b[0m\u001b[0m\n\u001b[0m\u001b[1;32m      2\u001b[0m \u001b[0;32mimport\u001b[0m \u001b[0mjax\u001b[0m\u001b[0;34m\u001b[0m\u001b[0;34m\u001b[0m\u001b[0m\n\u001b[1;32m      3\u001b[0m \u001b[0;32mimport\u001b[0m \u001b[0mjax\u001b[0m\u001b[0;34m.\u001b[0m\u001b[0mnumpy\u001b[0m \u001b[0;32mas\u001b[0m \u001b[0mjnp\u001b[0m\u001b[0;34m\u001b[0m\u001b[0;34m\u001b[0m\u001b[0m\n\u001b[1;32m      4\u001b[0m \u001b[0;32mimport\u001b[0m \u001b[0mjax\u001b[0m\u001b[0;34m.\u001b[0m\u001b[0mrandom\u001b[0m \u001b[0;32mas\u001b[0m \u001b[0mrandom\u001b[0m\u001b[0;34m\u001b[0m\u001b[0;34m\u001b[0m\u001b[0m\n\u001b[1;32m      5\u001b[0m \u001b[0;32mfrom\u001b[0m \u001b[0mjax\u001b[0m \u001b[0;32mimport\u001b[0m \u001b[0mgrad\u001b[0m\u001b[0;34m\u001b[0m\u001b[0;34m\u001b[0m\u001b[0m\n",
      "\u001b[0;31mModuleNotFoundError\u001b[0m: No module named 'gym'"
     ]
    }
   ],
   "source": [
    "import gym\n",
    "import jax\n",
    "import jax.numpy as jnp\n",
    "import jax.random as random\n",
    "from jax import grad\n",
    "jax.config.update('jax_platform_name', 'cpu')\n",
    "import matplotlib.pyplot as plt"
   ]
  },
  {
   "cell_type": "markdown",
   "id": "982a01f0",
   "metadata": {},
   "source": [
    "### (quick intro to gym = super quick MDP revision)"
   ]
  },
  {
   "cell_type": "code",
   "execution_count": 3,
   "id": "0cad9477",
   "metadata": {},
   "outputs": [
    {
     "ename": "NameError",
     "evalue": "name 'gym' is not defined",
     "output_type": "error",
     "traceback": [
      "\u001b[0;31m---------------------------------------------------------------------------\u001b[0m",
      "\u001b[0;31mNameError\u001b[0m                                 Traceback (most recent call last)",
      "\u001b[0;32m<ipython-input-3-db2f2830d2d3>\u001b[0m in \u001b[0;36m<module>\u001b[0;34m\u001b[0m\n\u001b[0;32m----> 1\u001b[0;31m \u001b[0menv\u001b[0m \u001b[0;34m=\u001b[0m \u001b[0mgym\u001b[0m\u001b[0;34m.\u001b[0m\u001b[0mmake\u001b[0m\u001b[0;34m(\u001b[0m\u001b[0;34m\"CartPole-v1\"\u001b[0m\u001b[0;34m)\u001b[0m\u001b[0;34m\u001b[0m\u001b[0;34m\u001b[0m\u001b[0m\n\u001b[0m\u001b[1;32m      2\u001b[0m \u001b[0mn_actions\u001b[0m \u001b[0;34m=\u001b[0m \u001b[0menv\u001b[0m\u001b[0;34m.\u001b[0m\u001b[0maction_space\u001b[0m\u001b[0;34m.\u001b[0m\u001b[0mn\u001b[0m\u001b[0;34m\u001b[0m\u001b[0;34m\u001b[0m\u001b[0m\n\u001b[1;32m      3\u001b[0m \u001b[0mstate_dim\u001b[0m \u001b[0;34m=\u001b[0m \u001b[0menv\u001b[0m\u001b[0;34m.\u001b[0m\u001b[0mobservation_space\u001b[0m\u001b[0;34m.\u001b[0m\u001b[0mshape\u001b[0m\u001b[0;34m[\u001b[0m\u001b[0;36m0\u001b[0m\u001b[0;34m]\u001b[0m\u001b[0;34m\u001b[0m\u001b[0;34m\u001b[0m\u001b[0m\n",
      "\u001b[0;31mNameError\u001b[0m: name 'gym' is not defined"
     ]
    }
   ],
   "source": [
    "env = gym.make(\"CartPole-v1\")\n",
    "n_actions = env.action_space.n\n",
    "state_dim = env.observation_space.shape[0]"
   ]
  },
  {
   "cell_type": "markdown",
   "id": "c63d4335",
   "metadata": {},
   "source": [
    "### Interaction loop (code is given)"
   ]
  },
  {
   "cell_type": "code",
   "execution_count": 3,
   "id": "eca87f0e",
   "metadata": {},
   "outputs": [],
   "source": [
    "def run_interaction(env, agent, n_steps=10**5, discount=0.99, seed=None, render=False):\n",
    "    performance = 0.\n",
    "    performances = []\n",
    "    state = env.reset(seed=seed)\n",
    "    last_reset = 0\n",
    "    \n",
    "    for t in range(n_steps):\n",
    "        action = agent.act(state)\n",
    "        \n",
    "        next_state, reward, done, _ = env.step(action)\n",
    "        discounted_reward = reward * discount**(t - last_reset)\n",
    "        performance += discounted_reward\n",
    "        \n",
    "        if render:\n",
    "            env.render()\n",
    "            \n",
    "        agent.update(state, action, reward, next_state, done)\n",
    "        \n",
    "        if done:\n",
    "            print('Performance: %.2f' % performance)\n",
    "            performances.append(performance)\n",
    "            performance = 0\n",
    "            state = env.reset()\n",
    "            last_reset = t + 1\n",
    "        else:\n",
    "            state = next_state\n",
    "        \n",
    "    env.close()\n",
    "    return performances"
   ]
  },
  {
   "cell_type": "markdown",
   "id": "2c5a18bf",
   "metadata": {},
   "source": [
    "### jax quickstart: arrays, random numbers\n",
    "Give links to useful functions"
   ]
  },
  {
   "cell_type": "markdown",
   "id": "ad9e70df",
   "metadata": {},
   "source": [
    "### Base (uniform) policy"
   ]
  },
  {
   "cell_type": "code",
   "execution_count": 4,
   "id": "3d4ff5c5",
   "metadata": {},
   "outputs": [],
   "source": [
    "class Policy:\n",
    "    def __init__(self, state_dim, n_actions, seed=0):\n",
    "        self.state_dim = state_dim\n",
    "        self.n_actions = n_actions\n",
    "        self.reset(seed=seed)\n",
    "    \n",
    "    def reset(self, seed=0):\n",
    "        self.param = None\n",
    "\n",
    "    def probs_func(self, state, param):\n",
    "        return jnp.ones(self.n_actions) / self.n_actions\n",
    "    \n",
    "    def probs(self, state):\n",
    "        return self.probs_func(state, self.param)\n",
    "    \n",
    "    def get_param(self):\n",
    "        return self.param\n",
    "    \n",
    "    def set_param(self, param):\n",
    "        self.param = param"
   ]
  },
  {
   "cell_type": "markdown",
   "id": "48a1a3f1",
   "metadata": {},
   "source": [
    "### Simple non-adaptive agent"
   ]
  },
  {
   "cell_type": "code",
   "execution_count": 17,
   "id": "c7b958ec",
   "metadata": {},
   "outputs": [],
   "source": [
    "class Agent:\n",
    "    def __init__(self, policy, seed=0):\n",
    "        self.policy = policy\n",
    "        self.reset(seed=seed)\n",
    "    \n",
    "    def reset(self, seed=0):\n",
    "        self.key = random.PRNGKey(seed)    \n",
    "    \n",
    "    def act(self, state):\n",
    "        self.key, subkey = random.split(self.key)\n",
    "        probs = self.policy.probs(state)\n",
    "        action = random.choice(subkey, len(probs), p=probs).item()\n",
    "        return action\n",
    "    \n",
    "    def update(self, state, action, discounted_reward, next_state, done):\n",
    "        pass"
   ]
  },
  {
   "cell_type": "markdown",
   "id": "bfa9446c",
   "metadata": {},
   "source": [
    "### Run the uniform policy"
   ]
  },
  {
   "cell_type": "code",
   "execution_count": 18,
   "id": "01a1eaf1",
   "metadata": {},
   "outputs": [],
   "source": [
    "uniform_policy = Policy(state_dim, n_actions)\n",
    "random_agent = Agent(uniform_policy)"
   ]
  },
  {
   "cell_type": "code",
   "execution_count": 19,
   "id": "ea2d462a",
   "metadata": {},
   "outputs": [
    {
     "name": "stdout",
     "output_type": "stream",
     "text": [
      "Performance: 33.10\n",
      "Performance: 19.84\n",
      "Performance: 13.13\n",
      "Performance: 16.55\n"
     ]
    },
    {
     "data": {
      "text/plain": [
       "[33.10282414303193, 19.836941046095397, 13.12541872310217, 16.548623854991238]"
      ]
     },
     "execution_count": 19,
     "metadata": {},
     "output_type": "execute_result"
    }
   ],
   "source": [
    "run_interaction(env, random_agent, n_steps=100, render=False)"
   ]
  },
  {
   "cell_type": "markdown",
   "id": "f166e4d4",
   "metadata": {},
   "source": [
    "### Policy Gradient (revision)"
   ]
  },
  {
   "cell_type": "markdown",
   "id": "d04689ef",
   "metadata": {},
   "source": [
    "### Exercise 1: implement linear-Softmax policy"
   ]
  },
  {
   "cell_type": "code",
   "execution_count": 1,
   "id": "f1c6d382",
   "metadata": {},
   "outputs": [
    {
     "ename": "NameError",
     "evalue": "name 'Policy' is not defined",
     "output_type": "error",
     "traceback": [
      "\u001b[0;31m---------------------------------------------------------------------------\u001b[0m",
      "\u001b[0;31mNameError\u001b[0m                                 Traceback (most recent call last)",
      "\u001b[0;32m<ipython-input-1-3001c27c2daa>\u001b[0m in \u001b[0;36m<module>\u001b[0;34m\u001b[0m\n\u001b[0;32m----> 1\u001b[0;31m \u001b[0;32mclass\u001b[0m \u001b[0mLinearSoftmaxPolicy\u001b[0m\u001b[0;34m(\u001b[0m\u001b[0mPolicy\u001b[0m\u001b[0;34m)\u001b[0m\u001b[0;34m:\u001b[0m\u001b[0;34m\u001b[0m\u001b[0;34m\u001b[0m\u001b[0m\n\u001b[0m\u001b[1;32m      2\u001b[0m     \u001b[0;32mdef\u001b[0m \u001b[0m__init__\u001b[0m\u001b[0;34m(\u001b[0m\u001b[0mself\u001b[0m\u001b[0;34m,\u001b[0m \u001b[0mstate_dim\u001b[0m\u001b[0;34m,\u001b[0m \u001b[0mn_actions\u001b[0m\u001b[0;34m,\u001b[0m \u001b[0mtemperature\u001b[0m\u001b[0;34m=\u001b[0m\u001b[0;36m1.\u001b[0m\u001b[0;34m)\u001b[0m\u001b[0;34m:\u001b[0m\u001b[0;34m\u001b[0m\u001b[0;34m\u001b[0m\u001b[0m\n\u001b[1;32m      3\u001b[0m         \u001b[0msuper\u001b[0m\u001b[0;34m(\u001b[0m\u001b[0;34m)\u001b[0m\u001b[0;34m.\u001b[0m\u001b[0m__init__\u001b[0m\u001b[0;34m(\u001b[0m\u001b[0mstate_dim\u001b[0m\u001b[0;34m,\u001b[0m \u001b[0mn_actions\u001b[0m\u001b[0;34m)\u001b[0m\u001b[0;34m\u001b[0m\u001b[0;34m\u001b[0m\u001b[0m\n\u001b[1;32m      4\u001b[0m         \u001b[0mself\u001b[0m\u001b[0;34m.\u001b[0m\u001b[0mtemperature\u001b[0m \u001b[0;34m=\u001b[0m \u001b[0mtemperature\u001b[0m\u001b[0;34m\u001b[0m\u001b[0;34m\u001b[0m\u001b[0m\n\u001b[1;32m      5\u001b[0m \u001b[0;34m\u001b[0m\u001b[0m\n",
      "\u001b[0;31mNameError\u001b[0m: name 'Policy' is not defined"
     ]
    }
   ],
   "source": [
    "class LinearSoftmaxPolicy(Policy):\n",
    "    def __init__(self, state_dim, n_actions, temperature=1.):\n",
    "        super().__init__(state_dim, n_actions)\n",
    "        self.temperature = temperature\n",
    "    \n",
    "    def reset(self, seed=0):\n",
    "        self.param = jnp.zeros((self.n_actions, self.state_dim))\n",
    "    \n",
    "    def probs_func(self, state, param):\n",
    "        #solution\n",
    "        state_features = jnp.array(state)\n",
    "        log_probs = self.temperature * jnp.dot(param, state_features)\n",
    "        offset = jnp.max(log_probs)\n",
    "        exponential_weights = jnp.exp(log_probs - offset)\n",
    "        normalization = jnp.sum(exponential_weights)\n",
    "        return exponential_weights / normalization\n",
    "        #end solution"
   ]
  },
  {
   "cell_type": "code",
   "execution_count": 21,
   "id": "21ccfc33",
   "metadata": {},
   "outputs": [
    {
     "name": "stdout",
     "output_type": "stream",
     "text": [
      "Performance: 25.28\n",
      "Performance: 10.47\n",
      "Performance: 23.00\n",
      "Performance: 28.23\n"
     ]
    },
    {
     "data": {
      "text/plain": [
       "[25.28279056684035, 10.466174574128356, 22.995685419484463, 28.226946740172476]"
      ]
     },
     "execution_count": 21,
     "metadata": {},
     "output_type": "execute_result"
    }
   ],
   "source": [
    "uniform_policy = LinearSoftmaxPolicy(state_dim, n_actions)\n",
    "random_agent = Agent(uniform_policy)\n",
    "run_interaction(env, random_agent, n_steps=100, render=False)"
   ]
  },
  {
   "cell_type": "markdown",
   "id": "308ea3e2",
   "metadata": {},
   "source": [
    "### jax quickstart: grad"
   ]
  },
  {
   "cell_type": "markdown",
   "id": "1a3d1b96",
   "metadata": {},
   "source": [
    "### Exercise 2: implement actor-only policy gradient"
   ]
  },
  {
   "cell_type": "code",
   "execution_count": 9,
   "id": "f1086e76",
   "metadata": {},
   "outputs": [],
   "source": [
    "class ActorOnly(Agent):\n",
    "    def __init__(self, policy, discount=0.99, lr=1e-3):\n",
    "        super().__init__(policy)\n",
    "        self.discount = discount\n",
    "        self.lr = lr\n",
    "        \n",
    "    def reset(self, seed=0):\n",
    "        super().reset(seed=seed)\n",
    "        #solution\n",
    "        self.rewards = []\n",
    "        self.scores = []\n",
    "        #end solution\n",
    "    \n",
    "    def update(self, state, action, reward, next_state, done):\n",
    "        #solution\n",
    "        self.rewards.append(reward)\n",
    "        \n",
    "        current_param = self.policy.get_param()\n",
    "        \n",
    "        def logpi(param):\n",
    "            return jnp.log(self.policy.probs_func(state, param)[action])\n",
    "        \n",
    "        score_fun = grad(logpi)\n",
    "        score = score_fun(current_param)\n",
    "        self.scores.append(score)\n",
    "        \n",
    "        if done:\n",
    "            horizon = len(self.rewards)\n",
    "            discounts = jnp.ones(horizon) * self.discount\n",
    "            discounts = discounts.at[0].set(1.)\n",
    "            discounts = jnp.cumprod(discounts)\n",
    "            discounted_rewards = jnp.array(self.rewards) * discounts\n",
    "            returns_to_go = jnp.cumsum(discounted_rewards[::-1])[::-1]\n",
    "            policy_gradient = jnp.dot(jnp.array(self.scores).T, returns_to_go).T\n",
    "            new_param = current_param + self.lr * policy_gradient\n",
    "            self.policy.set_param(new_param)\n",
    "            self.rewards = []\n",
    "            self.scores = []\n",
    "        #end solution"
   ]
  },
  {
   "cell_type": "code",
   "execution_count": 10,
   "id": "48f1fa65",
   "metadata": {},
   "outputs": [],
   "source": [
    "pol = LinearSoftmaxPolicy(state_dim, n_actions)\n",
    "softmax_agent = ActorOnly(pol, lr=1e-3)"
   ]
  },
  {
   "cell_type": "code",
   "execution_count": 11,
   "id": "81028493",
   "metadata": {},
   "outputs": [
    {
     "name": "stdout",
     "output_type": "stream",
     "text": [
      "Performance: 37.02\n",
      "Performance: 22.22\n",
      "Performance: 11.36\n",
      "Performance: 13.13\n",
      "Performance: 24.53\n",
      "Performance: 13.99\n",
      "Performance: 16.55\n",
      "Performance: 18.21\n",
      "Performance: 8.65\n",
      "Performance: 26.03\n",
      "Performance: 19.84\n",
      "Performance: 25.28\n",
      "Performance: 45.28\n",
      "Performance: 29.66\n",
      "Performance: 25.28\n",
      "Performance: 12.25\n",
      "Performance: 11.36\n",
      "Performance: 36.38\n",
      "Performance: 22.22\n",
      "Performance: 48.49\n",
      "Performance: 11.36\n",
      "Performance: 17.38\n",
      "Performance: 34.43\n",
      "Performance: 17.38\n",
      "Performance: 11.36\n",
      "Performance: 19.84\n",
      "Performance: 14.85\n",
      "Performance: 13.99\n",
      "Performance: 13.99\n",
      "Performance: 31.06\n",
      "Performance: 13.99\n",
      "Performance: 32.43\n",
      "Performance: 13.99\n",
      "Performance: 26.77\n",
      "Performance: 17.38\n",
      "Performance: 12.25\n",
      "Performance: 38.27\n",
      "Performance: 22.22\n",
      "Performance: 27.50\n",
      "Performance: 10.47\n",
      "Performance: 28.94\n",
      "Performance: 23.77\n",
      "Performance: 35.74\n",
      "Performance: 18.21\n",
      "Performance: 33.77\n",
      "Performance: 49.00\n",
      "Performance: 37.02\n",
      "Performance: 39.50\n",
      "Performance: 17.38\n",
      "Performance: 25.28\n",
      "Performance: 66.56\n",
      "Performance: 24.53\n",
      "Performance: 20.64\n",
      "Performance: 49.00\n",
      "Performance: 54.80\n",
      "Performance: 23.77\n",
      "Performance: 17.38\n",
      "Performance: 30.36\n",
      "Performance: 13.99\n",
      "Performance: 47.97\n",
      "Performance: 18.21\n",
      "Performance: 29.66\n",
      "Performance: 26.03\n",
      "Performance: 13.13\n",
      "Performance: 40.10\n",
      "Performance: 17.38\n",
      "Performance: 18.21\n",
      "Performance: 24.53\n",
      "Performance: 38.27\n",
      "Performance: 37.02\n",
      "Performance: 57.44\n",
      "Performance: 19.03\n",
      "Performance: 29.66\n",
      "Performance: 29.66\n",
      "Performance: 46.91\n",
      "Performance: 37.02\n",
      "Performance: 17.38\n",
      "Performance: 52.47\n",
      "Performance: 21.43\n",
      "Performance: 37.65\n",
      "Performance: 44.17\n",
      "Performance: 13.13\n",
      "Performance: 23.00\n",
      "Performance: 31.74\n",
      "Performance: 30.36\n",
      "Performance: 17.38\n",
      "Performance: 23.77\n",
      "Performance: 35.74\n",
      "Performance: 38.27\n",
      "Performance: 19.84\n",
      "Performance: 31.06\n",
      "Performance: 53.88\n",
      "Performance: 43.04\n",
      "Performance: 54.80\n",
      "Performance: 40.10\n",
      "Performance: 48.49\n",
      "Performance: 38.89\n",
      "Performance: 59.53\n",
      "Performance: 51.01\n",
      "Performance: 30.36\n",
      "Performance: 55.25\n",
      "Performance: 69.15\n",
      "Performance: 49.51\n",
      "Performance: 52.94\n",
      "Performance: 25.28\n",
      "Performance: 57.87\n",
      "Performance: 13.13\n",
      "Performance: 40.70\n",
      "Performance: 32.43\n",
      "Performance: 62.28\n",
      "Performance: 47.44\n",
      "Performance: 38.27\n",
      "Performance: 76.95\n",
      "Performance: 57.01\n",
      "Performance: 37.02\n",
      "Performance: 28.23\n",
      "Performance: 44.73\n",
      "Performance: 16.55\n",
      "Performance: 46.91\n",
      "Performance: 29.66\n",
      "Performance: 20.64\n",
      "Performance: 56.14\n",
      "Performance: 39.50\n",
      "Performance: 58.29\n",
      "Performance: 65.54\n",
      "Performance: 61.90\n",
      "Performance: 27.50\n",
      "Performance: 79.77\n",
      "Performance: 39.50\n",
      "Performance: 31.74\n",
      "Performance: 59.12\n",
      "Performance: 42.46\n",
      "Performance: 55.25\n",
      "Performance: 18.21\n",
      "Performance: 75.02\n",
      "Performance: 80.37\n",
      "Performance: 24.53\n",
      "Performance: 73.20\n",
      "Performance: 39.50\n",
      "Performance: 59.53\n",
      "Performance: 88.00\n",
      "Performance: 52.47\n",
      "Performance: 81.52\n",
      "Performance: 64.13\n",
      "Performance: 38.89\n",
      "Performance: 78.73\n",
      "Performance: 81.70\n",
      "Performance: 64.48\n",
      "Performance: 64.48\n",
      "Performance: 66.90\n",
      "Performance: 51.01\n",
      "Performance: 54.80\n",
      "Performance: 61.51\n",
      "Performance: 82.43\n",
      "Performance: 79.77\n",
      "Performance: 50.52\n",
      "Performance: 91.39\n",
      "Performance: 94.58\n",
      "Performance: 53.41\n",
      "Performance: 95.61\n",
      "Performance: 80.76\n",
      "Performance: 35.74\n",
      "Performance: 81.14\n",
      "Performance: 27.50\n",
      "Performance: 88.71\n",
      "Performance: 50.02\n",
      "Performance: 29.66\n"
     ]
    }
   ],
   "source": [
    "pf = run_interaction(env, softmax_agent, n_steps=10000, render=False)"
   ]
  },
  {
   "cell_type": "code",
   "execution_count": 12,
   "id": "03e926d9",
   "metadata": {},
   "outputs": [
    {
     "data": {
      "text/plain": [
       "[<matplotlib.lines.Line2D at 0x7f2b8441d450>]"
      ]
     },
     "execution_count": 12,
     "metadata": {},
     "output_type": "execute_result"
    },
    {
     "data": {
      "image/png": "[encoded data removed]",
      "text/plain": [
       "<Figure size 432x288 with 1 Axes>"
      ]
     },
     "metadata": {
      "needs_background": "light"
     },
     "output_type": "display_data"
    }
   ],
   "source": [
    "plt.plot(pf)"
   ]
  },
  {
   "cell_type": "markdown",
   "id": "4990748c",
   "metadata": {},
   "source": [
    "### Exercise 4 (intermediate): implement a critic"
   ]
  },
  {
   "cell_type": "markdown",
   "id": "2b76ecd9",
   "metadata": {},
   "source": [
    "### Exercise 3 (advanced): go deep?"
   ]
  },
  {
   "cell_type": "code",
   "execution_count": 75,
   "id": "f55505cd",
   "metadata": {},
   "outputs": [],
   "source": [
    "from jax.example_libraries import stax\n",
    "\n",
    "class MLPSoftmaxPolicy(LinearSoftmaxPolicy):\n",
    "    def __init__(self, state_dim, n_actions, temperature=1., hidden=8):\n",
    "        self.nn_init, self.model = stax.serial(\n",
    "            stax.Dense(hidden),\n",
    "            stax.Tanh,\n",
    "            stax.Dense(n_actions)\n",
    "        )\n",
    "        super().__init__(state_dim, n_actions, temperature)\n",
    "        \n",
    "    def reset(self, seed=0):\n",
    "        key = random.PRNGKey(seed)\n",
    "        output_shape, params_init = self.nn_init(key, (-1, self.state_dim))\n",
    "        self.param = params_init\n",
    "    \n",
    "    def probs_func(self, state, param):\n",
    "        #solution\n",
    "        x = jnp.array(state)\n",
    "        log_probs = self.temperature * self.model(self.param, x)\n",
    "        offset = jnp.max(log_probs)\n",
    "        exponential_weights = jnp.exp(log_probs - offset)\n",
    "        normalization = jnp.sum(exponential_weights)\n",
    "        return exponential_weights / normalization\n",
    "        #end solution"
   ]
  },
  {
   "cell_type": "code",
   "execution_count": 76,
   "id": "8378c901",
   "metadata": {},
   "outputs": [
    {
     "name": "stdout",
     "output_type": "stream",
     "text": [
      "Performance: 7.73\n",
      "Performance: 24.53\n",
      "Performance: 8.65\n",
      "Performance: 9.56\n",
      "Performance: 13.99\n",
      "Performance: 10.47\n",
      "Performance: 13.13\n"
     ]
    },
    {
     "data": {
      "text/plain": [
       "[7.72553055720799,\n",
       " 24.52807127963672,\n",
       " 8.64827525163591,\n",
       " 9.561792499119552,\n",
       " 13.994164535871148,\n",
       " 10.466174574128356,\n",
       " 13.12541872310217]"
      ]
     },
     "execution_count": 76,
     "metadata": {},
     "output_type": "execute_result"
    }
   ],
   "source": [
    "mlp_policy = MLPSoftmaxPolicy(state_dim, n_actions)\n",
    "random_agent = Agent(mlp_policy)\n",
    "run_interaction(env, random_agent, n_steps=100, render=False)"
   ]
  },
  {
   "cell_type": "code",
   "execution_count": null,
   "id": "15d7a93d",
   "metadata": {},
   "outputs": [],
   "source": []
  }
 ],
 "metadata": {
  "kernelspec": {
   "display_name": "Python 3",
   "language": "python",
   "name": "python3"
  },
  "language_info": {
   "codemirror_mode": {
    "name": "ipython",
    "version": 3
   },
   "file_extension": ".py",
   "mimetype": "text/x-python",
   "name": "python",
   "nbconvert_exporter": "python",
   "pygments_lexer": "ipython3",
   "version": "3.8.8"
  }
 },
 "nbformat": 4,
 "nbformat_minor": 5
}
