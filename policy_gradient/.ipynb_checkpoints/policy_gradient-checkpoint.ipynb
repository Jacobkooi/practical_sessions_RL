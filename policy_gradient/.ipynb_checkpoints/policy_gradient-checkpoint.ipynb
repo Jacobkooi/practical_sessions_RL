{
 "cells": [
  {
   "cell_type": "markdown",
   "id": "1b0c7f42",
   "metadata": {},
   "source": [
    "# Policy Gradient --- Practical Session"
   ]
  },
  {
   "cell_type": "code",
   "execution_count": 1,
   "id": "11a6f303",
   "metadata": {},
   "outputs": [],
   "source": [
    "import gym\n",
    "import jax\n",
    "import jax.numpy as jnp\n",
    "import jax.random as random\n",
    "from jax import grad\n",
    "jax.config.update('jax_platform_name', 'cpu')\n",
    "import matplotlib.pyplot as plt"
   ]
  },
  {
   "cell_type": "markdown",
   "id": "ef98bfe8",
   "metadata": {},
   "source": [
    "## Setting up the RL task with Openai Gym\n",
    "\n",
    "Gym (https://www.gymlibrary.ml/) is *the* standard interface for simulating **Markov Decision Processes** (MDPs).\n",
    "\n",
    "An MDP is made of \n",
    "* a **state space** $\\mathcal{S}$\n",
    "* an **action space** $\\mathcal{A}$\n",
    "* a **starting-state distribution** $\\mu(s)$\n",
    "* a **transition function** $p(s'\\mid s,a)$\n",
    "* a **reward function** $r(s,a)$\n",
    "\n",
    "![title](img/rl.png)"
   ]
  },
  {
   "cell_type": "markdown",
   "id": "9dcf9c0b",
   "metadata": {},
   "source": [
    "Let's start by creating an MDP (our **environment** or reinforcement learning **task**).\n",
    "\n",
    "Gym has several ready-to-use tasks (you can also create custom environments by implementing the gym interface)\n",
    "\n",
    "The `make` method accepts a string that specifies the name and version of the task. "
   ]
  },
  {
   "cell_type": "code",
   "execution_count": 2,
   "id": "377b11bb",
   "metadata": {},
   "outputs": [],
   "source": [
    "env = gym.make(\"CartPole-v1\")"
   ]
  },
  {
   "cell_type": "markdown",
   "id": "1f02712c",
   "metadata": {},
   "source": [
    "**Cart-Pole** is a standard control task where the goal is to balance a pole that is attached to a cart, only by controlling the horizontal motion of the cart.\n",
    "\n",
    "![title](img/cartpole.gif)\n",
    "\n",
    "Let's have a look at the **state space**:"
   ]
  },
  {
   "cell_type": "code",
   "execution_count": 3,
   "id": "b539db25",
   "metadata": {},
   "outputs": [
    {
     "data": {
      "text/plain": [
       "Box([-4.8000002e+00 -3.4028235e+38 -4.1887903e-01 -3.4028235e+38], [4.8000002e+00 3.4028235e+38 4.1887903e-01 3.4028235e+38], (4,), float32)"
      ]
     },
     "execution_count": 3,
     "metadata": {},
     "output_type": "execute_result"
    }
   ],
   "source": [
    "env.observation_space"
   ]
  },
  {
   "cell_type": "markdown",
   "id": "bd1befbe",
   "metadata": {},
   "source": [
    "In this MDP, a state is a vector of 4 real numbers. We call this a *continuous* state space.\n",
    "\n",
    "Let's take note of the state dimension:"
   ]
  },
  {
   "cell_type": "code",
   "execution_count": 4,
   "id": "85335abd",
   "metadata": {},
   "outputs": [],
   "source": [
    "state_dim = env.observation_space.shape[0]"
   ]
  },
  {
   "cell_type": "markdown",
   "id": "7a7f119b",
   "metadata": {},
   "source": [
    "Now let's have a look at the **action space**:"
   ]
  },
  {
   "cell_type": "code",
   "execution_count": 5,
   "id": "15362234",
   "metadata": {},
   "outputs": [
    {
     "data": {
      "text/plain": [
       "Discrete(2)"
      ]
     },
     "execution_count": 5,
     "metadata": {},
     "output_type": "execute_result"
    }
   ],
   "source": [
    "env.action_space"
   ]
  },
  {
   "cell_type": "markdown",
   "id": "335850e0",
   "metadata": {},
   "source": [
    "We only have two actions, `0` (push cart to the left) and `1` (push cart to the right). This is a *finite* action space. \n",
    "\n",
    "Let's take note of the number of actions:"
   ]
  },
  {
   "cell_type": "code",
   "execution_count": 6,
   "id": "0cad9477",
   "metadata": {},
   "outputs": [],
   "source": [
    "n_actions = env.action_space.n"
   ]
  },
  {
   "cell_type": "markdown",
   "id": "518c6575",
   "metadata": {},
   "source": [
    "The **starting-state distribution** is given by the `reset` method. It returns the initial state:"
   ]
  },
  {
   "cell_type": "code",
   "execution_count": 7,
   "id": "0cb077ff",
   "metadata": {},
   "outputs": [
    {
     "data": {
      "text/plain": [
       "array([ 0.03603477,  0.00117119, -0.03683506, -0.01291682], dtype=float32)"
      ]
     },
     "execution_count": 7,
     "metadata": {},
     "output_type": "execute_result"
    }
   ],
   "source": [
    "env.reset()"
   ]
  },
  {
   "cell_type": "markdown",
   "id": "48bd58c5",
   "metadata": {},
   "source": [
    "Both the **transition function** and the **reward function** are implemented by the `step` method. It takes an action and it returns the next state, the reward, a termination or \"done\" flag and a side-information dictionary (the latter is empty for Cart-Pole)"
   ]
  },
  {
   "cell_type": "code",
   "execution_count": 8,
   "id": "6ee71426",
   "metadata": {},
   "outputs": [
    {
     "data": {
      "text/plain": [
       "(array([ 0.0360582 , -0.19340368, -0.0370934 ,  0.26792043], dtype=float32),\n",
       " 1.0,\n",
       " False,\n",
       " {})"
      ]
     },
     "execution_count": 8,
     "metadata": {},
     "output_type": "execute_result"
    }
   ],
   "source": [
    "env.step(0)"
   ]
  },
  {
   "cell_type": "markdown",
   "id": "818436f3",
   "metadata": {},
   "source": [
    "Note that the environment object is *stateful*: the next state and reward depend on the (internal) current state and the given action.\n",
    "\n",
    "In Cartpole, reward is 1 at every step (if the pole is up, you are doing good!)\n",
    "\n",
    "The episode terminates (`step` returns a `True` done flag) when the pole falls outside a certain angle or the cart goes too far to the left or to the right.\n",
    "\n",
    "See the docs for more detailed info on the Cart-Pole task (https://www.gymlibrary.ml/environments/classic_control/cart_pole/)"
   ]
  },
  {
   "cell_type": "markdown",
   "id": "c17a61c9",
   "metadata": {},
   "source": [
    "## A simple agent interface\n",
    "\n",
    "We have our environment, now let's build an **agent**. \n",
    "\n",
    "Our agent will `act` depending on the current state and `update` its behavior based on experience (learn).\n",
    "\n",
    "Our default implementation is an agent that makes random actions and does not learn anything. This agent has a fixed **stochastic policy**\n",
    "\n",
    "![title](img/policy.png)"
   ]
  },
  {
   "cell_type": "code",
   "execution_count": 9,
   "id": "d4adeeb7",
   "metadata": {},
   "outputs": [],
   "source": [
    "##add comments and docstring\n",
    "class Agent:\n",
    "    def __init__(self, seed=0):\n",
    "        self.reset(seed=seed)\n",
    "    \n",
    "    def reset(self, seed=0):\n",
    "        self.key = random.PRNGKey(seed)    \n",
    "    \n",
    "    def act(self, state):\n",
    "        self.key, subkey = random.split(self.key)\n",
    "        action = random.choice(subkey, 2).item()\n",
    "        return action\n",
    "    \n",
    "    def update(self, state, action, discounted_reward, next_state, done):\n",
    "        pass"
   ]
  },
  {
   "cell_type": "markdown",
   "id": "2ab9f34a",
   "metadata": {},
   "source": [
    "## The interaction loop"
   ]
  },
  {
   "cell_type": "markdown",
   "id": "ef54d0cf",
   "metadata": {},
   "source": [
    "The following function makes the agent interact with the environment over several episodes and records the **performance** of the agent at each episode\n",
    "\n",
    "![title](img/performance.png)\n",
    "\n",
    "We can use *random seeds* to make the experiment fully reproducible."
   ]
  },
  {
   "cell_type": "code",
   "execution_count": 10,
   "id": "eca87f0e",
   "metadata": {},
   "outputs": [],
   "source": [
    "def run_interaction(env, agent, n_steps=10**5, discount=0.99, seed=None, render=False):\n",
    "    performance = 0.\n",
    "    performances = []\n",
    "    state = env.reset(seed=seed)\n",
    "    last_reset = 0\n",
    "    episode = 1\n",
    "    \n",
    "    for t in range(n_steps):\n",
    "        action = agent.act(state)\n",
    "        \n",
    "        next_state, reward, done, _ = env.step(action)\n",
    "        discounted_reward = reward * discount**(t - last_reset)\n",
    "        performance += discounted_reward\n",
    "        \n",
    "        if render:\n",
    "            env.render()\n",
    "            \n",
    "        agent.update(state, action, reward, next_state, done)\n",
    "        \n",
    "        if done:\n",
    "            print('Episode %d: performance = %.2f' % (episode, performance))\n",
    "            episode += 1\n",
    "            performances.append(performance)\n",
    "            performance = 0\n",
    "            state = env.reset()\n",
    "            last_reset = t + 1\n",
    "        else:\n",
    "            state = next_state\n",
    "        \n",
    "    env.close()\n",
    "    return performances"
   ]
  },
  {
   "cell_type": "markdown",
   "id": "bbf9218f",
   "metadata": {},
   "source": [
    "Let's simulate the interaction of the random agent with the cartpole environment"
   ]
  },
  {
   "cell_type": "code",
   "execution_count": 11,
   "id": "01a1eaf1",
   "metadata": {},
   "outputs": [
    {
     "name": "stdout",
     "output_type": "stream",
     "text": [
      "Episode 1: performance = 14.85\n",
      "Episode 2: performance = 11.36\n",
      "Episode 3: performance = 9.56\n",
      "Episode 4: performance = 15.71\n",
      "Episode 5: performance = 16.55\n",
      "Episode 6: performance = 15.71\n",
      "Episode 7: performance = 22.22\n",
      "Episode 8: performance = 13.13\n",
      "Episode 9: performance = 9.56\n",
      "Episode 10: performance = 12.25\n",
      "Episode 11: performance = 26.03\n",
      "Episode 12: performance = 14.85\n",
      "Episode 13: performance = 14.85\n",
      "Episode 14: performance = 21.43\n",
      "Episode 15: performance = 22.22\n",
      "Episode 16: performance = 13.13\n",
      "Episode 17: performance = 13.99\n",
      "Episode 18: performance = 18.21\n",
      "Episode 19: performance = 13.13\n",
      "Episode 20: performance = 19.84\n",
      "Episode 21: performance = 10.47\n",
      "Episode 22: performance = 21.43\n",
      "Episode 23: performance = 37.02\n",
      "Episode 24: performance = 12.25\n",
      "Episode 25: performance = 14.85\n",
      "Episode 26: performance = 28.23\n"
     ]
    }
   ],
   "source": [
    "random_agent = Agent(seed=0)\n",
    "performances = run_interaction(env, random_agent, n_steps=500, render=False, seed=0)"
   ]
  },
  {
   "cell_type": "markdown",
   "id": "a7cb0c03",
   "metadata": {},
   "source": [
    "Let's plot the performance over the episodes. This is called a **learning curve**, but our agent did not learn anything"
   ]
  },
  {
   "cell_type": "code",
   "execution_count": 12,
   "id": "b0d76124",
   "metadata": {},
   "outputs": [
    {
     "data": {
      "text/plain": [
       "Text(0, 0.5, 'Performance')"
      ]
     },
     "execution_count": 12,
     "metadata": {},
     "output_type": "execute_result"
    },
    {
     "data": {
      "image/png": "[encoded data removed]",
      "text/plain": [
       "<Figure size 432x288 with 1 Axes>"
      ]
     },
     "metadata": {
      "needs_background": "light"
     },
     "output_type": "display_data"
    }
   ],
   "source": [
    "plt.plot(performances)\n",
    "plt.xlabel(\"Episode\")\n",
    "plt.ylabel(\"Performance\")"
   ]
  },
  {
   "cell_type": "markdown",
   "id": "f166e4d4",
   "metadata": {},
   "source": [
    "## Policy Gradient: theory recap\n",
    "\n",
    "We fix a parametric policy class\n",
    "\n",
    "![title](img/param_policy.png)\n",
    "\n",
    "We use the following shorthand for the performance measure:\n",
    "\n",
    "![title](img/perf_short.png)\n",
    "\n",
    "And learn policy parameters by **stochastic gradient ascent**\n",
    "\n",
    "![title](img/sga.png)\n",
    "\n",
    "where $\\alpha$ is the **learning rate** and the expression of the gradient is given by the **policy gradient theorem**\n",
    "\n",
    "![title](img/pgt.png)\n",
    "\n",
    "where the state-action value function is:\n",
    "\n",
    "![title](img/q.png)\n",
    "\n",
    "and the state-occupancy measure is:\n",
    "\n",
    "![title](img/occupancy.png)"
   ]
  },
  {
   "cell_type": "markdown",
   "id": "e62dacdc",
   "metadata": {},
   "source": [
    "## JAX quickstart\n",
    "\n",
    "JAX is a numerical computing and automatic differentiation library.\n",
    "\n",
    "The basic objects are (multi-dimensional) arrays (same as in *numpy*)"
   ]
  },
  {
   "cell_type": "code",
   "execution_count": 13,
   "id": "562ca0ac",
   "metadata": {},
   "outputs": [],
   "source": [
    "import jax.numpy as jnp\n",
    "\n",
    "v = jnp.array([0.3, 0.2, 0.5]) #a 1-D array (a vector)\n",
    "A = jnp.array([[1.,-1.,0],[0,1.,1.]]) # a 2-D array (a matrix)"
   ]
  },
  {
   "cell_type": "markdown",
   "id": "16886cd2",
   "metadata": {},
   "source": [
    "We can access arrays for reading values, but the are *immutable* (no writing)!"
   ]
  },
  {
   "cell_type": "code",
   "execution_count": 14,
   "id": "97185205",
   "metadata": {},
   "outputs": [
    {
     "data": {
      "text/plain": [
       "DeviceArray(0.2, dtype=float32)"
      ]
     },
     "execution_count": 14,
     "metadata": {},
     "output_type": "execute_result"
    }
   ],
   "source": [
    "v[1]"
   ]
  },
  {
   "cell_type": "code",
   "execution_count": 15,
   "id": "b5e47e72",
   "metadata": {},
   "outputs": [
    {
     "data": {
      "text/plain": [
       "DeviceArray(-1., dtype=float32)"
      ]
     },
     "execution_count": 15,
     "metadata": {},
     "output_type": "execute_result"
    }
   ],
   "source": [
    "A[0,1]"
   ]
  },
  {
   "cell_type": "code",
   "execution_count": 16,
   "id": "4f93da83",
   "metadata": {},
   "outputs": [
    {
     "data": {
      "text/plain": [
       "DeviceArray([-1.,  0.], dtype=float32)"
      ]
     },
     "execution_count": 16,
     "metadata": {},
     "output_type": "execute_result"
    }
   ],
   "source": [
    "A[0, 1:] #slicing"
   ]
  },
  {
   "cell_type": "code",
   "execution_count": 17,
   "id": "3cb71b71",
   "metadata": {},
   "outputs": [
    {
     "name": "stdout",
     "output_type": "stream",
     "text": [
      "'<class 'jaxlib.xla_extension.DeviceArray'>' object does not support item assignment. JAX arrays are immutable. Instead of ``x[idx] = y``, use ``x = x.at[idx].set(y)`` or another .at[] method: https://jax.readthedocs.io/en/latest/_autosummary/jax.numpy.ndarray.at.html\n"
     ]
    }
   ],
   "source": [
    "try:\n",
    "    v[1] = 0.\n",
    "except Exception as e:\n",
    "    print(e)"
   ]
  },
  {
   "cell_type": "markdown",
   "id": "58cb1a91",
   "metadata": {},
   "source": [
    "We can perform linear algebra on them"
   ]
  },
  {
   "cell_type": "code",
   "execution_count": 18,
   "id": "c9dfe96c",
   "metadata": {},
   "outputs": [
    {
     "name": "stdout",
     "output_type": "stream",
     "text": [
      "[0.6 0.4 1. ]\n",
      "[0.6 0.4 1. ]\n",
      "[0.09 0.04 0.25]\n"
     ]
    }
   ],
   "source": [
    "#Elementwise operations\n",
    "print(v+v)\n",
    "print(2*v)\n",
    "print(v*v)"
   ]
  },
  {
   "cell_type": "code",
   "execution_count": 19,
   "id": "f5e0da07",
   "metadata": {},
   "outputs": [
    {
     "data": {
      "text/plain": [
       "DeviceArray([0.10000001, 0.7       ], dtype=float32)"
      ]
     },
     "execution_count": 19,
     "metadata": {},
     "output_type": "execute_result"
    }
   ],
   "source": [
    "A @ v #matrix multiplication"
   ]
  },
  {
   "cell_type": "code",
   "execution_count": 20,
   "id": "9600048d",
   "metadata": {},
   "outputs": [
    {
     "data": {
      "text/plain": [
       "DeviceArray(0.38, dtype=float32)"
      ]
     },
     "execution_count": 20,
     "metadata": {},
     "output_type": "execute_result"
    }
   ],
   "source": [
    "jnp.dot(v,v) #dot product"
   ]
  },
  {
   "cell_type": "code",
   "execution_count": 21,
   "id": "84d6f6ef",
   "metadata": {},
   "outputs": [
    {
     "data": {
      "text/plain": [
       "DeviceArray([[ 1.,  0.],\n",
       "             [-1.,  1.],\n",
       "             [ 0.,  1.]], dtype=float32)"
      ]
     },
     "execution_count": 21,
     "metadata": {},
     "output_type": "execute_result"
    }
   ],
   "source": [
    "A.T #matrix transpose"
   ]
  },
  {
   "cell_type": "markdown",
   "id": "4d690c9e",
   "metadata": {},
   "source": [
    "We can easily **differentiate** functions with `grad`"
   ]
  },
  {
   "cell_type": "code",
   "execution_count": 22,
   "id": "97c6dd7c",
   "metadata": {},
   "outputs": [],
   "source": [
    "def f(x):\n",
    "    return jnp.dot(x, x)\n",
    "\n",
    "nabla_f = grad(f) #gradient of f w.r.t. x (itself a function!)"
   ]
  },
  {
   "cell_type": "code",
   "execution_count": 23,
   "id": "aa580ad2",
   "metadata": {},
   "outputs": [
    {
     "data": {
      "text/plain": [
       "DeviceArray([0.6, 0.4, 1. ], dtype=float32)"
      ]
     },
     "execution_count": 23,
     "metadata": {},
     "output_type": "execute_result"
    }
   ],
   "source": [
    "nabla_f(v) #the gradient of f evaluated at x=v (the gradient of x^Tx is 2x)"
   ]
  },
  {
   "cell_type": "markdown",
   "id": "efc48ed8",
   "metadata": {},
   "source": [
    "**Important**: the function we differentiate must be a *pure* function of the variable w.r.t. we are computing gradients!"
   ]
  },
  {
   "cell_type": "markdown",
   "id": "d04689ef",
   "metadata": {},
   "source": [
    "## EXERCISE 1: Softmax policy"
   ]
  },
  {
   "cell_type": "markdown",
   "id": "708dfa77",
   "metadata": {},
   "source": [
    "It's your turn to implement an agent that acts according to a parametric policy\n",
    "\n",
    "The **Softmax policy** is often used for finite actions. A possible formulation is:\n",
    "\n",
    "![title](img/softmax.png)\n",
    "\n",
    "where the policy parameter $\\theta$ is a 2-D array (matrix) of size n_actions $\\times$ state_dim and $\\theta_a$ denotes the row of $\\theta$ corresponding to action $a$. \n",
    "\n",
    "This is called a *linear* softmax policy because, for each action, the (unnormalized) log-probability is given by a linear combination of $\\theta_a$ and the current state.\n",
    "\n",
    "To implement the softmax policy, you just need to implement the `policy` method in the code below, which returns the probability of playing each action given the policy parameters and the state.\n",
    "\n",
    "*Suggestion: implement the log-action probabilities first in the* `log_policy` *method*\n",
    "\n",
    "Note that, even if the SoftmaxAgent object stores the current policy parameters as `self.policy_parameters`, the `policy` and `log_policy` methods take parameters as an input. This is to allow differentiation with JAX in the following steps. "
   ]
  },
  {
   "cell_type": "code",
   "execution_count": 44,
   "id": "53fa062a",
   "metadata": {},
   "outputs": [],
   "source": [
    "##add comments and docstring\n",
    "class SoftmaxAgent(Agent):\n",
    "    def __init__(self, state_dim, n_actions, seed=0):\n",
    "        self.state_dim = state_dim\n",
    "        self.n_actions = n_actions\n",
    "        self.reset(seed=seed)\n",
    "        \n",
    "    def reset(self, seed=0):\n",
    "        self.key = random.PRNGKey(seed)\n",
    "        self.policy_parameters = jnp.zeros((self.n_actions, self.state_dim))\n",
    "    \n",
    "    def log_policy(self, policy_parameters, state):\n",
    "        #solution\n",
    "        state_features = jnp.array(state)\n",
    "        weights = jnp.dot(policy_parameters, state_features)\n",
    "        numerical_stability_offset = jnp.max(weights)\n",
    "        log_sum_exp = jnp.log(jnp.sum(jnp.exp(weights - numerical_stability_offset)))\n",
    "        return weights - log_sum_exp\n",
    "        #end solution\n",
    "    \n",
    "    def policy(self, policy_parameters, state):\n",
    "        #solution\n",
    "        return jnp.exp(self.log_policy(policy_parameters, state))\n",
    "        #end solution\n",
    "    \n",
    "    def act(self, state):\n",
    "        self.key, subkey = random.split(self.key)\n",
    "        action_probs = self.policy(self.policy_parameters, state)\n",
    "        action = random.choice(subkey, 2, p=action_probs).item()\n",
    "        return action\n",
    "    \n",
    "    def score_function(self, policy_parameters, state, action):\n",
    "        #solution\n",
    "        def logpi(param):\n",
    "            return self.log_policy(param, state)[action]\n",
    "        \n",
    "        return grad(logpi)(policy_parameters)\n",
    "        #end solution"
   ]
  },
  {
   "cell_type": "markdown",
   "id": "dab38281",
   "metadata": {},
   "source": [
    "The Softmax policy with all parameters set to zero is again the random policy! To test your implementation, you can inspect the action probabilities it produces and/or run it in the Cart-Pole task using `run interaction`."
   ]
  },
  {
   "cell_type": "code",
   "execution_count": 45,
   "id": "21ccfc33",
   "metadata": {},
   "outputs": [
    {
     "name": "stdout",
     "output_type": "stream",
     "text": [
      "Episode 1: performance = 14.85\n",
      "Episode 2: performance = 12.25\n",
      "Episode 3: performance = 9.56\n",
      "Episode 4: performance = 17.38\n",
      "Episode 5: performance = 12.25\n",
      "Episode 6: performance = 11.36\n",
      "Episode 7: performance = 11.36\n",
      "Episode 8: performance = 18.21\n",
      "Episode 9: performance = 19.03\n",
      "Episode 10: performance = 15.71\n",
      "Episode 11: performance = 17.38\n",
      "Episode 12: performance = 33.77\n",
      "Episode 13: performance = 25.28\n",
      "Episode 14: performance = 15.71\n",
      "Episode 15: performance = 43.04\n",
      "Episode 16: performance = 28.94\n",
      "Episode 17: performance = 30.36\n",
      "Episode 18: performance = 20.64\n",
      "Episode 19: performance = 15.71\n",
      "Episode 20: performance = 28.23\n",
      "Episode 21: performance = 11.36\n",
      "Episode 22: performance = 11.36\n",
      "Episode 23: performance = 14.85\n"
     ]
    },
    {
     "data": {
      "text/plain": [
       "Text(0, 0.5, 'Performance')"
      ]
     },
     "execution_count": 45,
     "metadata": {},
     "output_type": "execute_result"
    },
    {
     "data": {
      "image/png": "[encoded data removed]",
      "text/plain": [
       "<Figure size 432x288 with 1 Axes>"
      ]
     },
     "metadata": {
      "needs_background": "light"
     },
     "output_type": "display_data"
    }
   ],
   "source": [
    "#solution\n",
    "zero_softmax_agent = SoftmaxAgent(state_dim, n_actions, seed=0)\n",
    "performances = run_interaction(env, zero_softmax_agent, n_steps=500, render=False, seed=0)\n",
    "plt.plot(performances)\n",
    "plt.xlabel(\"Episode\")\n",
    "plt.ylabel(\"Performance\")\n",
    "#end solution"
   ]
  },
  {
   "attachments": {},
   "cell_type": "markdown",
   "id": "1a3d1b96",
   "metadata": {},
   "source": [
    "## EXERCISE 2: Score function\n",
    "\n",
    "To compute the policy gradient, we just need to differentiate the log-action-probability. This gradient is called **score function**\n",
    "\n",
    "![title](img/score.png)\n",
    "\n",
    "A stub of the `score_function` method is given.\n",
    "\n",
    "**Hint 1:** if you haven't implemented the `log_policy` method yet, it is a good time to do it!\n",
    "\n",
    "**Hint 2:** `log_policy` has an another argument than the policy parameters (the state). By default, `grad` differentiates w.r.t. the *first* function argument\n",
    "\n",
    "**Hint 3:** `log_policy` returns a vector of probabilities, one for each action, but `grad` can only differentiate scalar-valued functions. You may want to index the probability vector *before* differentiating. JAX encourages a functional-programming style: use `lambda` or nested functions to define what you want to differentiate"
   ]
  },
  {
   "cell_type": "markdown",
   "id": "7701a6ef",
   "metadata": {},
   "source": [
    "## EXERCISE 3: REINFORCE\n",
    "\n",
    "Finally, we need to estimate the policy gradient from data. The simplest way is given by the REINFORCE estimator (here given in the \"PGT\" variant):\n",
    "\n",
    "![title](img/reinforce.png)\n",
    "\n",
    "Implement the gradient ascent update in the `update` method using the REINFORCE gradient estimator and the `score_function` method you have implemented before"
   ]
  },
  {
   "cell_type": "code",
   "execution_count": 46,
   "id": "f1086e76",
   "metadata": {},
   "outputs": [],
   "source": [
    "class PGSoftmaxAgent(SoftmaxAgent):\n",
    "    def __init__(self, state_dim, n_actions, seed=0, discount=0.99, learning_rate=1e-3):\n",
    "        super().__init__(state_dim, n_actions, seed)\n",
    "        self.discount = discount\n",
    "        self.learning_rate = learning_rate\n",
    "        \n",
    "    def reset(self, seed=0):\n",
    "        super().reset(seed=seed)\n",
    "        #solution\n",
    "        self.rewards = []\n",
    "        self.scores = []\n",
    "        #end solution\n",
    "    \n",
    "    def update(self, state, action, reward, next_state, done):\n",
    "        #solution\n",
    "        current_param = self.policy_parameters\n",
    "        self.rewards.append(reward)\n",
    "        score = self.score_function(current_param, state, action)\n",
    "        self.scores.append(score)\n",
    "        \n",
    "        if done:\n",
    "            horizon = len(self.rewards)\n",
    "            discounts = jnp.ones(horizon) * self.discount\n",
    "            discounts = discounts.at[0].set(1.)\n",
    "            discounts = jnp.cumprod(discounts)\n",
    "            discounted_rewards = jnp.array(self.rewards) * discounts\n",
    "            returns_to_go = jnp.cumsum(discounted_rewards[::-1])[::-1]\n",
    "            policy_gradient = jnp.dot(jnp.array(self.scores).T, returns_to_go).T\n",
    "            new_param = current_param + self.learning_rate * policy_gradient\n",
    "            self.policy_parameters = new_param\n",
    "            self.rewards = []\n",
    "            self.scores = []\n",
    "        #end solution"
   ]
  },
  {
   "cell_type": "code",
   "execution_count": 47,
   "id": "48f1fa65",
   "metadata": {},
   "outputs": [],
   "source": [
    "reinforce_agent = PGSoftmaxAgent(state_dim, n_actions, seed=0, learning_rate=1e-3)"
   ]
  },
  {
   "cell_type": "code",
   "execution_count": 48,
   "id": "81028493",
   "metadata": {},
   "outputs": [
    {
     "name": "stdout",
     "output_type": "stream",
     "text": [
      "Episode 1: performance = 26.03\n",
      "Episode 2: performance = 9.56\n",
      "Episode 3: performance = 24.53\n",
      "Episode 4: performance = 17.38\n",
      "Episode 5: performance = 15.71\n",
      "Episode 6: performance = 19.03\n",
      "Episode 7: performance = 14.85\n",
      "Episode 8: performance = 13.99\n",
      "Episode 9: performance = 17.38\n",
      "Episode 10: performance = 60.33\n",
      "Episode 11: performance = 26.03\n",
      "Episode 12: performance = 29.66\n",
      "Episode 13: performance = 23.00\n",
      "Episode 14: performance = 51.01\n",
      "Episode 15: performance = 56.58\n",
      "Episode 16: performance = 49.51\n",
      "Episode 17: performance = 51.01\n",
      "Episode 18: performance = 51.50\n",
      "Episode 19: performance = 60.73\n",
      "Episode 20: performance = 40.70\n",
      "Episode 21: performance = 25.28\n",
      "Episode 22: performance = 37.65\n",
      "Episode 23: performance = 43.61\n",
      "Episode 24: performance = 37.02\n",
      "Episode 25: performance = 31.74\n",
      "Episode 26: performance = 31.74\n",
      "Episode 27: performance = 35.09\n",
      "Episode 28: performance = 41.88\n",
      "Episode 29: performance = 47.44\n",
      "Episode 30: performance = 38.27\n",
      "Episode 31: performance = 38.89\n",
      "Episode 32: performance = 37.65\n",
      "Episode 33: performance = 47.44\n",
      "Episode 34: performance = 43.61\n",
      "Episode 35: performance = 48.49\n",
      "Episode 36: performance = 53.41\n",
      "Episode 37: performance = 35.09\n",
      "Episode 38: performance = 45.28\n",
      "Episode 39: performance = 53.88\n",
      "Episode 40: performance = 56.58\n",
      "Episode 41: performance = 54.34\n",
      "Episode 42: performance = 45.83\n",
      "Episode 43: performance = 60.73\n",
      "Episode 44: performance = 58.71\n",
      "Episode 45: performance = 42.46\n",
      "Episode 46: performance = 35.09\n",
      "Episode 47: performance = 39.50\n",
      "Episode 48: performance = 45.83\n",
      "Episode 49: performance = 45.83\n",
      "Episode 50: performance = 57.01\n",
      "Episode 51: performance = 60.73\n",
      "Episode 52: performance = 37.65\n",
      "Episode 53: performance = 38.89\n",
      "Episode 54: performance = 40.70\n",
      "Episode 55: performance = 59.12\n",
      "Episode 56: performance = 54.34\n",
      "Episode 57: performance = 40.70\n",
      "Episode 58: performance = 40.10\n",
      "Episode 59: performance = 44.17\n",
      "Episode 60: performance = 41.88\n",
      "Episode 61: performance = 49.00\n",
      "Episode 62: performance = 46.37\n",
      "Episode 63: performance = 52.94\n",
      "Episode 64: performance = 46.37\n",
      "Episode 65: performance = 41.88\n",
      "Episode 66: performance = 66.22\n",
      "Episode 67: performance = 51.50\n",
      "Episode 68: performance = 52.47\n",
      "Episode 69: performance = 47.97\n",
      "Episode 70: performance = 51.50\n",
      "Episode 71: performance = 52.94\n",
      "Episode 72: performance = 41.88\n",
      "Episode 73: performance = 59.12\n",
      "Episode 74: performance = 45.28\n",
      "Episode 75: performance = 42.46\n",
      "Episode 76: performance = 50.02\n",
      "Episode 77: performance = 43.04\n",
      "Episode 78: performance = 68.83\n",
      "Episode 79: performance = 44.17\n",
      "Episode 80: performance = 37.02\n",
      "Episode 81: performance = 50.52\n",
      "Episode 82: performance = 38.89\n",
      "Episode 83: performance = 68.83\n",
      "Episode 84: performance = 77.41\n",
      "Episode 85: performance = 50.52\n",
      "Episode 86: performance = 51.99\n",
      "Episode 87: performance = 40.70\n",
      "Episode 88: performance = 72.37\n",
      "Episode 89: performance = 63.03\n",
      "Episode 90: performance = 51.01\n",
      "Episode 91: performance = 40.10\n",
      "Episode 92: performance = 40.70\n",
      "Episode 93: performance = 45.28\n",
      "Episode 94: performance = 39.50\n",
      "Episode 95: performance = 37.65\n",
      "Episode 96: performance = 44.73\n",
      "Episode 97: performance = 81.89\n",
      "Episode 98: performance = 49.00\n",
      "Episode 99: performance = 73.46\n",
      "Episode 100: performance = 65.88\n",
      "Episode 101: performance = 72.37\n",
      "Episode 102: performance = 37.65\n",
      "Episode 103: performance = 68.83\n",
      "Episode 104: performance = 50.52\n",
      "Episode 105: performance = 55.25\n",
      "Episode 106: performance = 51.99\n",
      "Episode 107: performance = 40.10\n",
      "Episode 108: performance = 54.80\n",
      "Episode 109: performance = 36.38\n",
      "Episode 110: performance = 48.49\n",
      "Episode 111: performance = 52.94\n",
      "Episode 112: performance = 62.28\n",
      "Episode 113: performance = 45.83\n",
      "Episode 114: performance = 59.93\n",
      "Episode 115: performance = 51.01\n",
      "Episode 116: performance = 88.36\n",
      "Episode 117: performance = 52.94\n",
      "Episode 118: performance = 71.24\n",
      "Episode 119: performance = 49.00\n",
      "Episode 120: performance = 55.70\n",
      "Episode 121: performance = 51.50\n",
      "Episode 122: performance = 56.14\n",
      "Episode 123: performance = 52.47\n",
      "Episode 124: performance = 54.80\n",
      "Episode 125: performance = 80.76\n",
      "Episode 126: performance = 51.50\n",
      "Episode 127: performance = 54.80\n",
      "Episode 128: performance = 68.52\n",
      "Episode 129: performance = 75.02\n",
      "Episode 130: performance = 90.29\n",
      "Episode 131: performance = 40.70\n",
      "Episode 132: performance = 67.88\n",
      "Episode 133: performance = 57.01\n",
      "Episode 134: performance = 63.03\n",
      "Episode 135: performance = 58.71\n",
      "Episode 136: performance = 40.10\n",
      "Episode 137: performance = 62.28\n",
      "Episode 138: performance = 46.37\n",
      "Episode 139: performance = 76.95\n",
      "Episode 140: performance = 50.52\n"
     ]
    }
   ],
   "source": [
    "performances = run_interaction(env, reinforce_agent, n_steps=10000, render=False)"
   ]
  },
  {
   "cell_type": "code",
   "execution_count": 49,
   "id": "03e926d9",
   "metadata": {},
   "outputs": [
    {
     "data": {
      "text/plain": [
       "[<matplotlib.lines.Line2D at 0x7fde61a3d1b0>]"
      ]
     },
     "execution_count": 49,
     "metadata": {},
     "output_type": "execute_result"
    },
    {
     "data": {
      "image/png": "[encoded data removed]",
      "text/plain": [
       "<Figure size 432x288 with 1 Axes>"
      ]
     },
     "metadata": {
      "needs_background": "light"
     },
     "output_type": "display_data"
    }
   ],
   "source": [
    "plt.plot(performances)"
   ]
  },
  {
   "cell_type": "markdown",
   "id": "2b76ecd9",
   "metadata": {},
   "source": [
    "### Extras: ..."
   ]
  },
  {
   "cell_type": "code",
   "execution_count": null,
   "id": "f55505cd",
   "metadata": {},
   "outputs": [],
   "source": [
    "\"\"\"\n",
    "from jax.example_libraries import stax\n",
    "\n",
    "class MLPSoftmaxPolicy(LinearSoftmaxPolicy):\n",
    "    def __init__(self, state_dim, n_actions, hidden=8):\n",
    "        self.nn_init, self.model = stax.serial(\n",
    "            stax.Dense(hidden),\n",
    "            stax.Tanh,\n",
    "            stax.Dense(n_actions)\n",
    "        )\n",
    "        super().__init__(state_dim, n_actions)\n",
    "        \n",
    "    def reset(self, seed=0):\n",
    "        key = random.PRNGKey(seed)\n",
    "        output_shape, params_init = self.nn_init(key, (-1, self.state_dim))\n",
    "        self.param = params_init\n",
    "    \n",
    "    def probs_func(self, state, param):\n",
    "        #solution\n",
    "        x = jnp.array(state)\n",
    "        log_probs = self.model(self.param, x)\n",
    "        offset = jnp.max(log_probs)\n",
    "        exponential_weights = jnp.exp(log_probs - offset)\n",
    "        normalization = jnp.sum(exponential_weights)\n",
    "        return exponential_weights / normalization\n",
    "        #end solution\n",
    "\"\"\""
   ]
  },
  {
   "cell_type": "code",
   "execution_count": null,
   "id": "8378c901",
   "metadata": {},
   "outputs": [],
   "source": [
    "\"\"\"\n",
    "mlp_policy = MLPSoftmaxPolicy(state_dim, n_actions)\n",
    "random_agent = Agent(mlp_policy)\n",
    "run_interaction(env, random_agent, n_steps=100, render=False)\n",
    "\"\"\""
   ]
  }
 ],
 "metadata": {
  "kernelspec": {
   "display_name": "Python 3 (ipykernel)",
   "language": "python",
   "name": "python3"
  },
  "language_info": {
   "codemirror_mode": {
    "name": "ipython",
    "version": 3
   },
   "file_extension": ".py",
   "mimetype": "text/x-python",
   "name": "python",
   "nbconvert_exporter": "python",
   "pygments_lexer": "ipython3",
   "version": "3.10.4"
  }
 },
 "nbformat": 4,
 "nbformat_minor": 5
}
