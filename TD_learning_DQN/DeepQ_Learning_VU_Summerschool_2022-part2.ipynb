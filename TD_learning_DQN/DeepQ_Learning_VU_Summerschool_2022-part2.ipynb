{
 "cells": [
  {
   "cell_type": "markdown",
   "id": "b7549b86",
   "metadata": {},
   "source": [
    "# Reinforcement learning summer school at the VU - 2022"
   ]
  },
  {
   "cell_type": "markdown",
   "id": "fb46de00",
   "metadata": {},
   "source": [
    "## Workshop tutorial, day 2: "
   ]
  },
  {
   "cell_type": "markdown",
   "id": "a55dd0d8",
   "metadata": {},
   "source": [
    "## Deep Reinforcement Learning Agent (Part 2)\n"
   ]
  },
  {
   "cell_type": "markdown",
   "id": "6a5dc2ee",
   "metadata": {},
   "source": [
    "### Author: Buelent Uendes "
   ]
  },
  {
   "cell_type": "markdown",
   "id": "879505c9",
   "metadata": {},
   "source": [
    "In this notebook, we will use a function approximator to solve the mountain car game. As seen in the previous notebook, a simple agent that uses Q learning can learn to move the car in a way to move up the hill. Yet, for this to work, one had to discretize the state space. However, for large problems this approach is not feasible, given the fact that we then have a state,action pair matrix. To overcome this, we will use a Neural Network that will approximate the state, pair values. For this, we will use PyTorch. If you have not used PyTorch yet, do not worry, as the code will be provided. Yet, if you want to have a more in-depth tutorial in PyTorch, you can use the following YouTube tutorial:\n",
    "\n",
    "- https://www.youtube.com/watch?v=c36lUUr864M\n",
    "\n",
    "Deep reinforcement learning got popular following the paper published in 2013 [Playing Atari with Deep Reinforcement Learning](https://www.cs.toronto.edu/~vmnih/docs/dqn.pdf). Following this paper, several additional techniques were introduced that aim to stabilize the learning process. In the following notebook, we will look at two new methods, memory replay and target networks and will try to solve the mountain car environment using a Deep Reinforcement Learning algorithm. "
   ]
  },
  {
   "cell_type": "markdown",
   "id": "845ef6ad",
   "metadata": {},
   "source": [
    "This notebook is inspired by the implementation of a Deep Q agent as discussed in this [tutorial](https://www.youtube.com/watch?v=NP8pXZdU-5U)"
   ]
  },
  {
   "cell_type": "markdown",
   "id": "bc1b5871",
   "metadata": {},
   "source": [
    "**Instructions:**\n",
    "\n",
    "In the notebook, you will see a couple of ToDos with some instructions. Try your best to work through them and to complete the notebook. In case you run into problems, do not hesitate to ask any of the TAs for help! :) "
   ]
  },
  {
   "cell_type": "markdown",
   "id": "7c5bd33c",
   "metadata": {},
   "source": [
    "## Preliminaries "
   ]
  },
  {
   "cell_type": "markdown",
   "id": "8c663abf",
   "metadata": {},
   "source": [
    "### Import main libraries "
   ]
  },
  {
   "cell_type": "code",
   "execution_count": 1,
   "id": "aa54dd39",
   "metadata": {},
   "outputs": [],
   "source": [
    "import gym\n",
    "import numpy as np\n",
    "import time\n",
    "import matplotlib.pyplot as plt\n",
    "import torch \n",
    "import torch.nn as nn\n",
    "import torch.optim as optim\n",
    "import torch.nn.functional as F\n",
    "import random\n",
    "from collections import deque\n",
    "from mpl_toolkits import mplot3d"
   ]
  },
  {
   "cell_type": "markdown",
   "id": "e4e0c7d9",
   "metadata": {},
   "source": [
    "### Seeting the seed for reproducibility "
   ]
  },
  {
   "cell_type": "code",
   "execution_count": 2,
   "id": "8fa4924b",
   "metadata": {},
   "outputs": [],
   "source": [
    "# Seed\n",
    "seed = 10\n",
    "torch.manual_seed(seed)\n",
    "torch.cuda.manual_seed(seed)\n",
    "torch.cuda.manual_seed_all(seed)\n",
    "np.random.seed(seed)\n",
    "random.seed(seed)"
   ]
  },
  {
   "cell_type": "markdown",
   "id": "592b8108",
   "metadata": {},
   "source": [
    "## General notes "
   ]
  },
  {
   "cell_type": "markdown",
   "id": "9f1f4fab",
   "metadata": {},
   "source": [
    "We will introduce the concept of Deep Reinforcement Learning in **three** steps:\n",
    "\n",
    "1) First introduce how to implement a simple deep neural network that is represents an essential building block of Deep Q learning\n",
    "\n",
    "2) Introduce the topic of experience replay/replay buffer\n",
    "\n",
    "3) Introduce the concept of a target network!"
   ]
  },
  {
   "cell_type": "markdown",
   "id": "c6f29625",
   "metadata": {},
   "source": [
    "## Part 1: Deep neural network and its general characteristics in the context of reinforcement learning"
   ]
  },
  {
   "cell_type": "markdown",
   "id": "01122b51",
   "metadata": {},
   "source": [
    "### General characteristics of Deep Q learning\n",
    "\n",
    "In the simplest approach, a Deep RL algorithm is:\n",
    "\n",
    "- Episodic (the agent acts in the environment only for a specific number of timesteps)\n",
    "- Online (we train the algorithm while the agent interacts with the environment)\n",
    "- Model-free. We do not attempt to model the environment."
   ]
  },
  {
   "cell_type": "markdown",
   "id": "5ecc3b72",
   "metadata": {},
   "source": [
    "In the following, we will implement a deep neural network using the PyTorch library. "
   ]
  },
  {
   "cell_type": "code",
   "execution_count": 3,
   "id": "0e48f525",
   "metadata": {},
   "outputs": [],
   "source": [
    "class DQN(nn.Module):\n",
    "    \n",
    "    def __init__(self, env, learning_rate):\n",
    "        \n",
    "        super(DQN,self).__init__()\n",
    "        \n",
    "        '''\n",
    "        ToDo: Write your code here! \n",
    "        Make sure that the input features and the output features are in line with the environment that \n",
    "        the class takes as an input feature\n",
    "        '''\n",
    "        \n",
    "        'Solution:'\n",
    "        input_features = env.observation_space.shape[0]\n",
    "        action_space = env.action_space.n\n",
    "        \n",
    "        self.dense1 = nn.Linear(in_features = input_features, out_features = 128)\n",
    "        self.dense2 = nn.Linear(in_features = 128, out_features = 64)\n",
    "        self.dense3 = nn.Linear(in_features = 64, out_features = 32)\n",
    "        self.dense4 = nn.Linear(in_features = 32, out_features = action_space)\n",
    "        \n",
    "        self.optimizer = optim.Adam(self.parameters(), lr = learning_rate)\n",
    "        \n",
    "        \n",
    "    def forward(self, x):\n",
    "        \n",
    "        '''\n",
    "        ToDo: Write the forward pass! Keep in mind that the final layer should have as\n",
    "        many output features as there are actions!\n",
    "        \n",
    "        Important: We want to output a linear activation function as we need the q-values associated with each action\n",
    "    \n",
    "        '''\n",
    "        \n",
    "        'Solution:'\n",
    "        x = torch.tanh(self.dense1(x))\n",
    "        x = torch.tanh(self.dense2(x))\n",
    "        x = torch.tanh(self.dense3(x))\n",
    "        x = self.dense4(x)\n",
    "        \n",
    "        return x\n",
    "    "
   ]
  },
  {
   "cell_type": "markdown",
   "id": "32692ba5",
   "metadata": {},
   "source": [
    "That's it! This is the implementation of a deep neural network in PyTorch!"
   ]
  },
  {
   "cell_type": "markdown",
   "id": "f9cc5db9",
   "metadata": {},
   "source": [
    "## Part 2: Experience replay"
   ]
  },
  {
   "cell_type": "markdown",
   "id": "618bcd95",
   "metadata": {},
   "source": [
    "In a normal implementation of a deep neural network, one would train the algorithm using some sort of a gradient method. Yet, one of the key assumption is that the data is iid, i.e. independent identically distributed which does not hold in our reinforcement learning setting. The next state and its reward depends on the action our agent took the preceeding state which makes subsequent states and the data highly correlated. This can cause the DQN to be instable. To circumvent this, people use in practice a so-called experience replay technique. The main rationale behind this idea is to break the correlation between subsequent transitions by saving experiences in memory and sample randomly from the stored transitions when performing a Q-value update. This 'trick' is essential to make the method work!\n",
    "\n",
    "In the following, we will create a experience replay class that will store the transitions of the deep Q agent. It is important to keep in mind that the replay buffer has a fixed capacity. If the data that we want to store in the replay buffer exceeds the buffer, we want to store only the most recent transitions in the buffer. "
   ]
  },
  {
   "cell_type": "code",
   "execution_count": 4,
   "id": "f13b6f09",
   "metadata": {},
   "outputs": [],
   "source": [
    "class ExperienceReplay:\n",
    "    \n",
    "    def __init__(self, env, buffer_size, min_replay_size = 1000):\n",
    "        \n",
    "        self.env = env\n",
    "        self.min_replay_size = min_replay_size\n",
    "        self.replay_buffer = deque(maxlen=buffer_size)\n",
    "        self.reward_buffer = deque([0.0], maxlen = 100)\n",
    "        \n",
    "        print('Please wait, the experience replay buffer will be filled with random transitions')\n",
    "        \n",
    "        '''\n",
    "        ToDo: \n",
    "        Write a for loop that initializes the experience replay buffer with random transitions \n",
    "        such that the experience replay buffer \n",
    "        has minimum random transitions already stored \n",
    "        '''\n",
    "        \n",
    "        'Solution'\n",
    "        obs = self.env.reset()\n",
    "        \n",
    "        #Write your code here!\n",
    "        for _ in range(self.min_replay_size):\n",
    "            \n",
    "            action = env.action_space.sample()\n",
    "            new_obs, rew, done, _ = env.step(action)\n",
    "            transition = (obs, action, rew, done, new_obs)\n",
    "            self.replay_buffer.append(transition)\n",
    "            obs = new_obs\n",
    "    \n",
    "            if done:\n",
    "                obs = env.reset()\n",
    "        \n",
    "        #Logging\n",
    "        print('Initialization with random transitions is done!')\n",
    "      \n",
    "          \n",
    "    def add_data(self, data):      \n",
    "        self.replay_buffer.append(data)\n",
    "            \n",
    "    def sample(self, batch_size):\n",
    "        \n",
    "        transitions = random.sample(self.replay_buffer, batch_size)\n",
    "\n",
    "        observations = np.asarray([t[0] for t in transitions])\n",
    "        actions = np.asarray([t[1] for t in transitions])\n",
    "        rewards = np.asarray([t[2] for t in transitions])\n",
    "        dones = np.asarray([t[3] for t in transitions])\n",
    "        new_observations = np.asarray([t[4] for t in transitions])\n",
    "\n",
    "        observations_t = torch.as_tensor(observations, dtype = torch.float32)\n",
    "        actions_t = torch.as_tensor(actions, dtype = torch.int64).unsqueeze(-1)\n",
    "        rewards_t = torch.as_tensor(rewards, dtype = torch.float32).unsqueeze(-1)\n",
    "        dones_t = torch.as_tensor(dones, dtype = torch.float32).unsqueeze(-1)\n",
    "        new_observations_t = torch.as_tensor(new_observations, dtype = torch.float32)\n",
    "        \n",
    "        return observations_t, actions_t, rewards_t, dones_t, new_observations_t\n",
    "    \n",
    "    def add_reward(self, reward):\n",
    "        self.reward_buffer.append(reward)\n",
    "        "
   ]
  },
  {
   "cell_type": "markdown",
   "id": "68e78f29",
   "metadata": {},
   "source": [
    "##  Write policy for choosing the optimal policy "
   ]
  },
  {
   "cell_type": "code",
   "execution_count": 5,
   "id": "58392c0c",
   "metadata": {},
   "outputs": [],
   "source": [
    "def epsilon_greedy_action(env, online_network, observation, step, \n",
    "                          epsilon_decay, epsilon_start, epsilon_end):\n",
    "    \n",
    "    epsilon = np.interp(step, [0, epsilon_decay], [epsilon_start, epsilon_end])\n",
    "    \n",
    "    random_sample = random.random()\n",
    "    \n",
    "    '''\n",
    "    ToDo: write the function here that returns an action that is chosen based on the epsilon greedy policy\n",
    "    '''\n",
    "    \n",
    "    'Solution:'\n",
    "    \n",
    "    #Random action\n",
    "    if random_sample <= epsilon:\n",
    "        action = env.action_space.sample()\n",
    "        \n",
    "    #Greedy action\n",
    "    else:\n",
    "        obs_t = torch.as_tensor(observation, dtype = torch.float32)\n",
    "        q_values = self.net(obs_t.unsqueeze(0))\n",
    "        \n",
    "        max_q_index = torch.argmax(q_values, dim = 1)[0]\n",
    "        action = max_q_index.detach().item()\n",
    "        \n",
    "    return action, epsilon"
   ]
  },
  {
   "cell_type": "markdown",
   "id": "a5a756de",
   "metadata": {},
   "source": [
    "## Write the code for the vanilla DQN agent "
   ]
  },
  {
   "cell_type": "code",
   "execution_count": 6,
   "id": "29b36a40",
   "metadata": {},
   "outputs": [],
   "source": [
    "class vanilla_DQNAgent:\n",
    "    \n",
    "    def __init__(self, en, device, epsilon_decay, \n",
    "                 epsilon_start, epsilon_end, discount_rate, lr, buffer_size):\n",
    "        \n",
    "        self.env = env\n",
    "        self.discount_rate = discount_rate\n",
    "        self.device = device\n",
    "        \n",
    "        self.epsilon_decay = epsilon_decay\n",
    "        self.epsilon_start = epsilon_start\n",
    "        self.epsilon_end = epsilon_end\n",
    "        \n",
    "        self.discount_rate = discount_rate\n",
    "        self.learning_rate = lr\n",
    "        self.buffer_size = buffer_size\n",
    "        \n",
    "        self.replay_memory = ExperienceReplay(self.env, self.buffer_size)\n",
    "        self.online_network = DQN(self.env, self.learning_rate).to(self.device)\n",
    "        \n",
    "    def choose_action(self, step, observation, greedy = False):\n",
    "        \n",
    "        '''\n",
    "        Copy paste your epsilon greedy function that you wrote above!\n",
    "        '''\n",
    "        \n",
    "        epsilon = np.interp(step, [0, self.epsilon_decay], [self.epsilon_start, self.epsilon_end])\n",
    "    \n",
    "        random_sample = random.random()\n",
    "    \n",
    "        if (random_sample <= epsilon) and not greedy:\n",
    "            #Random action\n",
    "            action = self.env.action_space.sample()\n",
    "        \n",
    "        else:\n",
    "            obs_t = torch.as_tensor(observation, dtype = torch.float32)\n",
    "            q_values = self.online_network(obs_t.unsqueeze(0))\n",
    "        \n",
    "            max_q_index = torch.argmax(q_values, dim = 1)[0]\n",
    "            action = max_q_index.detach().item()\n",
    "        \n",
    "        return action, epsilon\n",
    "    \n",
    "    def learn(self, batch_size):\n",
    "        \n",
    "        observations_t, actions_t, rewards_t, dones_t, new_observations_t = self.replay_memory.sample(batch_size)\n",
    "\n",
    "        #Compute targets, note that we use the same neural network to do both! This will be changed later!\n",
    "        \n",
    "        '''ToDo:\n",
    "        Calculate the target q values and the corresponding max q values!\n",
    "        '''\n",
    "        \n",
    "        'Solution:'\n",
    "        target_q_values = self.online_network(new_observations_t)\n",
    "        max_target_q_values = target_q_values.max(dim=1, keepdim=True)[0]\n",
    "\n",
    "        targets = rewards_t + self.discount_rate * (1-dones_t) * max_target_q_values\n",
    "\n",
    "        #Compute loss\n",
    "\n",
    "        q_values = self.online_network(observations_t)\n",
    "\n",
    "        action_q_values = torch.gather(input=q_values, dim=1, index=actions_t)\n",
    "\n",
    "        #Loss, here we take the huber loss!\n",
    "        \n",
    "        'ToDo: Implement here the loss function! You can choose the standard MSE loss or Huber loss'\n",
    "\n",
    "        'Solution:'\n",
    "        loss = F.smooth_l1_loss(action_q_values, targets)\n",
    "        \n",
    "        #loss = F.mse_loss(action_q_values, targets)\n",
    "        \n",
    "        'ToDo: Write the gradient descent step, were you optimize the online network based on the loss!'\n",
    "        \n",
    "        'Solution:'\n",
    "        #Gradient descent\n",
    "        self.online_network.optimizer.zero_grad()\n",
    "        loss.backward()\n",
    "        self.online_network.optimizer.step()\n",
    "        "
   ]
  },
  {
   "cell_type": "markdown",
   "id": "46eceee3",
   "metadata": {},
   "source": [
    "## Write the training loop and perform the first run!"
   ]
  },
  {
   "cell_type": "markdown",
   "id": "26e78d68",
   "metadata": {},
   "source": [
    "In a last step, we can write a training loop that will put all things together. We will run the training loop for a number of iteration and see how our first algorithm performs!"
   ]
  },
  {
   "cell_type": "markdown",
   "id": "d3cae3b0",
   "metadata": {},
   "source": [
    "### Hyperparameters "
   ]
  },
  {
   "cell_type": "code",
   "execution_count": 7,
   "id": "40b0f49b",
   "metadata": {},
   "outputs": [],
   "source": [
    "#Set the hyperparameters\n",
    "\n",
    "#Discount rate\n",
    "discount_rate = 0.99\n",
    "#That is the sample that we consider to update our algorithm\n",
    "batch_size = 32\n",
    "#Maximum number of transitions that we store in the buffer\n",
    "buffer_size = 50000\n",
    "\n",
    "min_replay_size = 1000\n",
    "epsilon_start = 1.0\n",
    "epsilon_end = 0.05\n",
    "#Decay period until epsilon start -> epsilon end\n",
    "epsilon_decay = 10000\n",
    "\n",
    "max_episodes = 250000\n",
    "\n",
    "lr = 5e-4"
   ]
  },
  {
   "cell_type": "markdown",
   "id": "7bc06312",
   "metadata": {},
   "source": [
    "### Set the environment"
   ]
  },
  {
   "cell_type": "code",
   "execution_count": 8,
   "id": "bb88496b",
   "metadata": {},
   "outputs": [],
   "source": [
    "#Check if this works\n",
    "env = gym.make('MountainCar-v0')"
   ]
  },
  {
   "cell_type": "markdown",
   "id": "00d947bf",
   "metadata": {},
   "source": [
    "### Initialize all instances "
   ]
  },
  {
   "cell_type": "code",
   "execution_count": 9,
   "id": "ecf59524",
   "metadata": {},
   "outputs": [
    {
     "name": "stdout",
     "output_type": "stream",
     "text": [
      "Please wait, the experience replay buffer will be filled with random transitions\n",
      "Initialization with random transitions is done!\n"
     ]
    }
   ],
   "source": [
    "device = torch.device('cuda' if torch.cuda.is_available() else 'cpu')\n",
    "vanilla_agent = vanilla_DQNAgent(env, device, epsilon_decay, epsilon_start, epsilon_end, discount_rate, lr, buffer_size)"
   ]
  },
  {
   "cell_type": "markdown",
   "id": "4f68caa4",
   "metadata": {},
   "source": [
    "### Main training loop - vanilla DQN algorithm"
   ]
  },
  {
   "cell_type": "code",
   "execution_count": 10,
   "id": "b76e9bb8",
   "metadata": {},
   "outputs": [
    {
     "name": "stdout",
     "output_type": "stream",
     "text": [
      "----------------------------------------\n",
      "Step 0\n",
      "Epsilon 1.0\n",
      "Avg Rew 0.0\n",
      "\n",
      "----------------------------------------\n",
      "Step 10000\n",
      "Epsilon 0.05\n",
      "Avg Rew -196.07843137254903\n",
      "\n",
      "----------------------------------------\n",
      "Step 20000\n",
      "Epsilon 0.05\n",
      "Avg Rew -200.0\n",
      "\n",
      "----------------------------------------\n",
      "Step 30000\n",
      "Epsilon 0.05\n",
      "Avg Rew -200.0\n",
      "\n",
      "----------------------------------------\n",
      "Step 40000\n",
      "Epsilon 0.05\n",
      "Avg Rew -200.0\n",
      "\n",
      "----------------------------------------\n",
      "Step 50000\n",
      "Epsilon 0.05\n",
      "Avg Rew -200.0\n",
      "\n",
      "----------------------------------------\n",
      "Step 60000\n",
      "Epsilon 0.05\n",
      "Avg Rew -200.0\n",
      "\n",
      "----------------------------------------\n",
      "Step 70000\n",
      "Epsilon 0.05\n",
      "Avg Rew -200.0\n",
      "\n",
      "----------------------------------------\n",
      "Step 80000\n",
      "Epsilon 0.05\n",
      "Avg Rew -200.0\n",
      "\n",
      "----------------------------------------\n",
      "Step 90000\n",
      "Epsilon 0.05\n",
      "Avg Rew -200.0\n",
      "\n",
      "----------------------------------------\n",
      "Step 100000\n",
      "Epsilon 0.05\n",
      "Avg Rew -200.0\n",
      "\n",
      "----------------------------------------\n",
      "Step 110000\n",
      "Epsilon 0.05\n",
      "Avg Rew -200.0\n",
      "\n",
      "----------------------------------------\n",
      "Step 120000\n",
      "Epsilon 0.05\n",
      "Avg Rew -200.0\n",
      "\n",
      "----------------------------------------\n",
      "Step 130000\n",
      "Epsilon 0.05\n",
      "Avg Rew -200.0\n",
      "\n",
      "----------------------------------------\n",
      "Step 140000\n",
      "Epsilon 0.05\n",
      "Avg Rew -200.0\n",
      "\n",
      "----------------------------------------\n",
      "Step 150000\n",
      "Epsilon 0.05\n",
      "Avg Rew -200.0\n",
      "\n",
      "----------------------------------------\n",
      "Step 160000\n",
      "Epsilon 0.05\n",
      "Avg Rew -200.0\n",
      "\n",
      "----------------------------------------\n",
      "Step 170000\n",
      "Epsilon 0.05\n",
      "Avg Rew -200.0\n",
      "\n",
      "----------------------------------------\n",
      "Step 180000\n",
      "Epsilon 0.05\n",
      "Avg Rew -200.0\n",
      "\n",
      "----------------------------------------\n",
      "Step 190000\n",
      "Epsilon 0.05\n",
      "Avg Rew -200.0\n",
      "\n",
      "----------------------------------------\n",
      "Step 200000\n",
      "Epsilon 0.05\n",
      "Avg Rew -200.0\n",
      "\n",
      "----------------------------------------\n",
      "Step 210000\n",
      "Epsilon 0.05\n",
      "Avg Rew -200.0\n",
      "\n",
      "----------------------------------------\n",
      "Step 220000\n",
      "Epsilon 0.05\n",
      "Avg Rew -200.0\n",
      "\n",
      "----------------------------------------\n",
      "Step 230000\n",
      "Epsilon 0.05\n",
      "Avg Rew -200.0\n",
      "\n",
      "----------------------------------------\n",
      "Step 240000\n",
      "Epsilon 0.05\n",
      "Avg Rew -200.0\n",
      "\n"
     ]
    }
   ],
   "source": [
    "#Main training loop\n",
    "env.action_space.seed(1)\n",
    "obs = env.reset()\n",
    "#Have a list that stores average reward over 100 runs\n",
    "average_rewards_vanilla_dqn = [0]\n",
    "episode_reward = 0.0\n",
    "\n",
    "for step in range(max_episodes):\n",
    "    \n",
    "    action, epsilon = vanilla_agent.choose_action(step, obs)\n",
    "       \n",
    "    new_obs, rew, done, _ = env.step(action)\n",
    "    transition = (obs, action, rew, done, new_obs)\n",
    "    vanilla_agent.replay_memory.add_data(transition)\n",
    "    obs = new_obs\n",
    "    \n",
    "    episode_reward += rew\n",
    "    \n",
    "    if done:\n",
    "        \n",
    "        obs = env.reset()\n",
    "        vanilla_agent.replay_memory.add_reward(episode_reward)\n",
    "        #Reinitilize the reward to 0.0 after the game is over\n",
    "        episode_reward = 0.0\n",
    "\n",
    "#Learn\n",
    "\n",
    "    vanilla_agent.learn(batch_size)\n",
    "\n",
    "    #Calculate after each 100 episodes an average that will be added to the list\n",
    "    \n",
    "    if (step+1) % 100 == 0:\n",
    "        average_rewards_vanilla_dqn.append(np.mean(vanilla_agent.replay_memory.reward_buffer))\n",
    "    \n",
    "    #Logging\n",
    "    if step % 10000 == 0:\n",
    "        print(20*'--')\n",
    "        print('Step', step)\n",
    "        print('Epsilon', epsilon)\n",
    "        print('Avg Rew', np.mean(vanilla_agent.replay_memory.reward_buffer))\n",
    "        print()\n"
   ]
  },
  {
   "cell_type": "markdown",
   "id": "743ad14c",
   "metadata": {},
   "source": [
    "**Comment**: As you can see, the vanilla deep Q network performs very poorly and does not learn to master the challenge. Play around with the number of iterations and epsilon decay to check if you can improve the algorithm!"
   ]
  },
  {
   "cell_type": "markdown",
   "id": "cd015ad5",
   "metadata": {},
   "source": [
    "## Part 3: Target network"
   ]
  },
  {
   "cell_type": "markdown",
   "id": "f6a9db3c",
   "metadata": {},
   "source": [
    "A problem of the standard Q learning introduced above is the fact that we use the same Q value to choose an action and to evaluate it. To overcome this problem, double-Q learning was proposed in the following paper [Double Q-learning](https://papers.nips.cc/paper/2010/file/091d584fced301b442654dd8c23b3fc9-Paper.pdf).\n",
    "In the case of DQN, we can make use of the same idea by training a second neural network,a so-called target network. Just as the name suggests, the target network will be used to compute the target of the update equation using this target network. This target network will only be updated after a pre-defined number of steps to ensure that the target will not move as the DQN network will learn (as it is the case in the standard simple DQN framework). This idea was put forward in the paper again by van Hasselt et al. (2016) [Deep reinforcement learning with double Q-learning](https://arxiv.org/pdf/1509.06461.pdf). \n"
   ]
  },
  {
   "cell_type": "markdown",
   "id": "2407fc05",
   "metadata": {},
   "source": [
    "Implementing a target network and changing the architecture to a double DQN is rather straightforward. All we need to do is to initialize besides an online network a so-called target network. After a specific number of steps, the parameter values of the target network are reinitialized with the online network after a pre-defined number of steps. For this, we will add a few lines to the vanilla DQN class and call it DDQN (for double deep Q learning)."
   ]
  },
  {
   "cell_type": "code",
   "execution_count": 10,
   "id": "4d870289",
   "metadata": {},
   "outputs": [],
   "source": [
    "class DDQNAgent:\n",
    "    \n",
    "    def __init__(self, en, device, epsilon_decay, \n",
    "                 epsilon_start, epsilon_end, discount_rate, lr, buffer_size):\n",
    "        \n",
    "        self.env = env\n",
    "        self.discount_rate = discount_rate\n",
    "        self.device = device\n",
    "        \n",
    "        self.epsilon_decay = epsilon_decay\n",
    "        self.epsilon_start = epsilon_start\n",
    "        self.epsilon_end = epsilon_end\n",
    "        \n",
    "        self.learning_rate = lr\n",
    "        self.buffer_size = buffer_size\n",
    "        \n",
    "        self.replay_memory = ExperienceReplay(self.env, self.buffer_size)\n",
    "        self.online_network = DQN(self.env, self.learning_rate).to(self.device)\n",
    "        \n",
    "        '''\n",
    "        ToDo: 'Add here a target network and set the parameter values to the ones of the online network!'\n",
    "        '''\n",
    "        \n",
    "        'Solution'\n",
    "        self.target_network = DQN(self.env, self.learning_rate).to(self.device)\n",
    "        self.target_network.load_state_dict(self.online_network.state_dict())\n",
    "        \n",
    "    def choose_action(self, step, observation, greedy = False):\n",
    "        \n",
    "        '''\n",
    "        Copy paste here the code from above!\n",
    "        '''\n",
    "        \n",
    "        epsilon = np.interp(step, [0, self.epsilon_decay], [self.epsilon_start, self.epsilon_end])\n",
    "    \n",
    "        random_sample = random.random()\n",
    "    \n",
    "        if (random_sample <= epsilon) and not greedy:\n",
    "            #Random action\n",
    "            action = self.env.action_space.sample()\n",
    "        \n",
    "        else:\n",
    "            obs_t = torch.as_tensor(observation, dtype = torch.float32)\n",
    "            q_values = self.online_network(obs_t.unsqueeze(0))\n",
    "        \n",
    "            max_q_index = torch.argmax(q_values, dim = 1)[0]\n",
    "            action = max_q_index.detach().item()\n",
    "        \n",
    "        return action, epsilon\n",
    "    \n",
    "    #We will need this function later for plotting the 3D graph\n",
    "    def return_q_value(self, observation):\n",
    "        obs_t = torch.as_tensor(observation, dtype = torch.float32)\n",
    "        q_values = self.online_network(obs_t.unsqueeze(0))\n",
    "        \n",
    "        return torch.max(q_values).item()\n",
    "        \n",
    "    def learn(self, batch_size):\n",
    "        \n",
    "        observations_t, actions_t, rewards_t, dones_t, new_observations_t = self.replay_memory.sample(batch_size)\n",
    "\n",
    "        #Compute targets, note that we use the same neural network to do both! This will be changed later!\n",
    "\n",
    "        target_q_values = self.target_network(new_observations_t)\n",
    "        max_target_q_values = target_q_values.max(dim=1, keepdim=True)[0]\n",
    "\n",
    "        targets = rewards_t + self.discount_rate * (1-dones_t) * max_target_q_values\n",
    "\n",
    "        #Compute loss\n",
    "\n",
    "        q_values = self.online_network(observations_t)\n",
    "\n",
    "        action_q_values = torch.gather(input=q_values, dim=1, index=actions_t)\n",
    "\n",
    "        #Loss, here we take the huber loss!\n",
    "\n",
    "        loss = F.smooth_l1_loss(action_q_values, targets)\n",
    "        \n",
    "        #loss = F.mse_loss(action_q_values, targets)\n",
    "        \n",
    "        #Gradient descent\n",
    "        self.online_network.optimizer.zero_grad()\n",
    "        loss.backward()\n",
    "        self.online_network.optimizer.step()\n",
    "        \n",
    "    '''\n",
    "    ToDO: Write a method 'update_target_network(self), \n",
    "    which updats the target network with the parameters of the online network\n",
    "    '''\n",
    "    \n",
    "    'Solution'\n",
    "    def update_target_network(self):\n",
    "        self.target_network.load_state_dict(self.online_network.state_dict())\n",
    "    \n",
    "    #This method will let the DQNAgent play the game after it has worked through the number of episodes for training\n",
    "    \n",
    "    def play_game(self, step):\n",
    "        #Get the optimized strategy:\n",
    "        done = False\n",
    "        #Start the game\n",
    "        state = self.env.reset()\n",
    "        while not done:\n",
    "            #Pick the best acction from the saved Qtable\n",
    "            action = self.choose_action(step, state, True)[0]\n",
    "            next_state, reward, done, info = self.env.step(action)\n",
    "            state = next_state\n",
    "            self.env.render()\n",
    "            #Pause to make it easier to watch\n",
    "            time.sleep(0.05)\n",
    "        #Close the pop-up window\n",
    "        self.env.close()\n",
    "    "
   ]
  },
  {
   "cell_type": "markdown",
   "id": "2e02d62e",
   "metadata": {},
   "source": [
    "After we have created our DDQNAgent class, we can re-run the experiment from above and see if we can increase the performance! "
   ]
  },
  {
   "cell_type": "markdown",
   "id": "ba258ff0",
   "metadata": {},
   "source": [
    "## Hyperparameters and initialization "
   ]
  },
  {
   "cell_type": "markdown",
   "id": "44bb7d7f",
   "metadata": {},
   "source": [
    "Since the hyperparameters are the same as before, we only need to set the new hyperparameter target_update_frequency."
   ]
  },
  {
   "cell_type": "code",
   "execution_count": 11,
   "id": "23699824",
   "metadata": {},
   "outputs": [],
   "source": [
    "#Set the new hyperparameters\n",
    "target_update_frequency = 250"
   ]
  },
  {
   "cell_type": "code",
   "execution_count": 12,
   "id": "89799b09",
   "metadata": {},
   "outputs": [
    {
     "name": "stdout",
     "output_type": "stream",
     "text": [
      "Please wait, the experience replay buffer will be filled with random transitions\n",
      "Initialization with random transitions is done!\n"
     ]
    }
   ],
   "source": [
    "dagent = DDQNAgent(env, device, epsilon_decay, epsilon_start, epsilon_end, discount_rate, lr, buffer_size)"
   ]
  },
  {
   "cell_type": "markdown",
   "id": "fef28616",
   "metadata": {},
   "source": [
    "### Main loop DDQN - double deep Q network"
   ]
  },
  {
   "cell_type": "code",
   "execution_count": 14,
   "id": "89e6f851",
   "metadata": {},
   "outputs": [
    {
     "name": "stdout",
     "output_type": "stream",
     "text": [
      "----------------------------------------\n",
      "Step 0\n",
      "Epsilon 1.0\n",
      "Avg Rew 0.0\n",
      "----------------------------------------\n",
      "----------------------------------------\n",
      "Step 10000\n",
      "Epsilon 0.05\n",
      "Avg Rew -196.07843137254903\n",
      "----------------------------------------\n",
      "----------------------------------------\n",
      "Step 20000\n",
      "Epsilon 0.05\n",
      "Avg Rew -198.69\n",
      "----------------------------------------\n",
      "----------------------------------------\n",
      "Step 30000\n",
      "Epsilon 0.05\n",
      "Avg Rew -198.21\n",
      "----------------------------------------\n",
      "----------------------------------------\n",
      "Step 40000\n",
      "Epsilon 0.05\n",
      "Avg Rew -199.52\n",
      "----------------------------------------\n",
      "----------------------------------------\n",
      "Step 50000\n",
      "Epsilon 0.05\n",
      "Avg Rew -200.0\n",
      "----------------------------------------\n",
      "----------------------------------------\n",
      "Step 60000\n",
      "Epsilon 0.05\n",
      "Avg Rew -198.7\n",
      "----------------------------------------\n",
      "----------------------------------------\n",
      "Step 70000\n",
      "Epsilon 0.05\n",
      "Avg Rew -197.55\n",
      "----------------------------------------\n",
      "----------------------------------------\n",
      "Step 80000\n",
      "Epsilon 0.05\n",
      "Avg Rew -168.58\n",
      "----------------------------------------\n",
      "----------------------------------------\n",
      "Step 90000\n",
      "Epsilon 0.05\n",
      "Avg Rew -176.67\n",
      "----------------------------------------\n",
      "----------------------------------------\n",
      "Step 100000\n",
      "Epsilon 0.05\n",
      "Avg Rew -197.43\n",
      "----------------------------------------\n",
      "----------------------------------------\n",
      "Step 110000\n",
      "Epsilon 0.05\n",
      "Avg Rew -198.99\n",
      "----------------------------------------\n",
      "----------------------------------------\n",
      "Step 120000\n",
      "Epsilon 0.05\n",
      "Avg Rew -191.74\n",
      "----------------------------------------\n",
      "----------------------------------------\n",
      "Step 130000\n",
      "Epsilon 0.05\n",
      "Avg Rew -190.11\n",
      "----------------------------------------\n",
      "----------------------------------------\n",
      "Step 140000\n",
      "Epsilon 0.05\n",
      "Avg Rew -197.2\n",
      "----------------------------------------\n",
      "----------------------------------------\n",
      "Step 150000\n",
      "Epsilon 0.05\n",
      "Avg Rew -197.7\n",
      "----------------------------------------\n",
      "----------------------------------------\n",
      "Step 160000\n",
      "Epsilon 0.05\n",
      "Avg Rew -195.32\n",
      "----------------------------------------\n",
      "----------------------------------------\n",
      "Step 170000\n",
      "Epsilon 0.05\n",
      "Avg Rew -183.34\n",
      "----------------------------------------\n",
      "----------------------------------------\n",
      "Step 180000\n",
      "Epsilon 0.05\n",
      "Avg Rew -141.42\n",
      "----------------------------------------\n",
      "----------------------------------------\n",
      "Step 190000\n",
      "Epsilon 0.05\n",
      "Avg Rew -161.82\n",
      "----------------------------------------\n",
      "----------------------------------------\n",
      "Step 200000\n",
      "Epsilon 0.05\n",
      "Avg Rew -149.47\n",
      "----------------------------------------\n",
      "----------------------------------------\n",
      "Step 210000\n",
      "Epsilon 0.05\n",
      "Avg Rew -142.07\n",
      "----------------------------------------\n",
      "----------------------------------------\n",
      "Step 220000\n",
      "Epsilon 0.05\n",
      "Avg Rew -162.86\n",
      "----------------------------------------\n",
      "----------------------------------------\n",
      "Step 230000\n",
      "Epsilon 0.05\n",
      "Avg Rew -147.59\n",
      "----------------------------------------\n",
      "----------------------------------------\n",
      "Step 240000\n",
      "Epsilon 0.05\n",
      "Avg Rew -150.81\n",
      "----------------------------------------\n"
     ]
    }
   ],
   "source": [
    "#Main training loop\n",
    "env.action_space.seed(42)\n",
    "obs = env.reset()\n",
    "#Have a list that stores average reward over 100 runs\n",
    "average_rewards_ddqn = [0]\n",
    "episode_reward = 0.0\n",
    "\n",
    "for step in range(max_episodes):\n",
    "    \n",
    "    action, epsilon = dagent.choose_action(step, obs)\n",
    "       \n",
    "    new_obs, rew, done, _ = env.step(action)\n",
    "    transition = (obs, action, rew, done, new_obs)\n",
    "    dagent.replay_memory.add_data(transition)\n",
    "    obs = new_obs\n",
    "    \n",
    "    episode_reward += rew\n",
    "    \n",
    "    if done:\n",
    "        \n",
    "        obs = env.reset()\n",
    "        dagent.replay_memory.add_reward(episode_reward)\n",
    "        #Reinitilize the reward to 0.0 after the game is over\n",
    "        episode_reward = 0.0\n",
    "\n",
    "#Learn\n",
    "\n",
    "    dagent.learn(batch_size)\n",
    "\n",
    "#Calculate after each 100 episodes an average that will be added to the list\n",
    "    \n",
    "    if (step+1) % 100 == 0:\n",
    "        average_rewards_ddqn.append(np.mean(dagent.replay_memory.reward_buffer))\n",
    "    \n",
    "    \n",
    "#Update target network\n",
    "    if step % target_update_frequency == 0:\n",
    "        dagent.update_target_network()\n",
    "    \n",
    "#Logging\n",
    "    if step % 10000 == 0:\n",
    "        print(20*'--')\n",
    "        print('Step', step)\n",
    "        print('Epsilon', epsilon)\n",
    "        print('Avg Rew', np.mean(dagent.replay_memory.reward_buffer))\n",
    "        print(20*'--')"
   ]
  },
  {
   "cell_type": "markdown",
   "id": "2ce395b6",
   "metadata": {},
   "source": [
    "**Comments**:\n",
    "\n",
    "As you can see, implementing a target network improved the performance of the deep reinforcement learning algorithm greatly! \n",
    "\n",
    "We can also plot the results of both algorithms to see the difference even more clearly.\n"
   ]
  },
  {
   "cell_type": "markdown",
   "id": "10958adb",
   "metadata": {},
   "source": [
    "**Comment**:\n",
    "\n",
    "Here we can plot the results of the algorithms. "
   ]
  },
  {
   "cell_type": "code",
   "execution_count": 15,
   "id": "3899c813",
   "metadata": {},
   "outputs": [
    {
     "data": {
      "text/plain": [
       "Text(0, 0.5, 'Average reward')"
      ]
     },
     "execution_count": 15,
     "metadata": {},
     "output_type": "execute_result"
    },
    {
     "data": {
      "image/png": "[encoded data removed]",
      "text/plain": [
       "<Figure size 432x288 with 1 Axes>"
      ]
     },
     "metadata": {
      "needs_background": "light"
     },
     "output_type": "display_data"
    }
   ],
   "source": [
    "plt.plot(1000*(np.arange(len(average_rewards_ddqn))+1),average_rewards_ddqn)\n",
    "plt.plot(1000*(np.arange(len(average_rewards_vanilla_dqn))+1),average_rewards_vanilla_dqn)\n",
    "plt.title('Average reward over the past 100 simulations')\n",
    "plt.xlabel('Number of simulations')\n",
    "plt.legend(['Double DQN', 'Vanilla DQN'])\n",
    "plt.ylabel('Average reward')"
   ]
  },
  {
   "cell_type": "markdown",
   "id": "f9efcc22",
   "metadata": {},
   "source": [
    "You can play around the hyperparameter and see how the results change if, for example, you lower the discount rate or learning rate! Also, you can see if changing the neural network architecture, i.e. making it deeper, will lead to an increase in performance."
   ]
  },
  {
   "cell_type": "markdown",
   "id": "eb70edf1",
   "metadata": {},
   "source": [
    "## Reap the rewards of the hard work - see the DDQN play the game! "
   ]
  },
  {
   "cell_type": "markdown",
   "id": "91e9be68",
   "metadata": {},
   "source": [
    "Now that we worked through two different deep reinforcement learning architectures, we can see the DQN solve the game. The code below with let the DQNAgent play the mountain car game. "
   ]
  },
  {
   "cell_type": "code",
   "execution_count": 47,
   "id": "1c9c9a19",
   "metadata": {},
   "outputs": [],
   "source": [
    "dagent.play_game(max_episodes)"
   ]
  },
  {
   "cell_type": "markdown",
   "id": "164c3580",
   "metadata": {},
   "source": [
    "## Visualize the result in a 3D plot "
   ]
  },
  {
   "cell_type": "markdown",
   "id": "244758d1",
   "metadata": {},
   "source": [
    "**ToDo!**"
   ]
  },
  {
   "cell_type": "markdown",
   "id": "6d1ec157",
   "metadata": {},
   "source": [
    "We can visualize the result in a 3D plot, plotting the x-position as well as the velocity with the corresponding value function. To recall, the value of a particular state is, in case of a greedy policy, the corresponding maximum state action pair! The following function will plot the value function."
   ]
  },
  {
   "cell_type": "markdown",
   "id": "ac1214f5",
   "metadata": {},
   "source": [
    "## Extensions/Interesting notes: "
   ]
  },
  {
   "cell_type": "markdown",
   "id": "ab0b1527",
   "metadata": {},
   "source": [
    "Following the sucess of the paper by Minh et al. (2013), research in deep reinforcement learning has progressed and a couple of extensions to the basic framework have been proposed, such as dueling deep Q learning (also called D3QN) and priotized experience replay. But before I give you some pointers on this, we will discuss the deadly triad in a bit more detail.\n"
   ]
  },
  {
   "cell_type": "markdown",
   "id": "5e1ad8ee",
   "metadata": {},
   "source": [
    "## The deadly triad "
   ]
  },
  {
   "cell_type": "markdown",
   "id": "605824e3",
   "metadata": {},
   "source": [
    "Some of you might have heard of the term 'deadly triad' which refers to the instability a reinforcement learning algorithm faces, when an algorithm makes use of:\n",
    "\n",
    "- function approximation\n",
    "- bootstrapping\n",
    "- off-policy evaluation\n",
    "\n",
    "Our deep reinforcement learning algorithm makes use of all three concepts. Yet, it does **not** state that instability/divergence always occur when all three above-mentioned techniques are used. The deadly triad only states that it **can** occur. An interesting paper that addresses this issue empirically is the following paper by van Hasselt et al. (2018) [Deep Reinforcement Learning and the Deadly Triad](https://arxiv.org/pdf/1812.02648.pdf)"
   ]
  },
  {
   "cell_type": "markdown",
   "id": "9ad40ff8",
   "metadata": {},
   "source": [
    "For doing this, they realize that if one bounds the rewards in the interval between $[-1,1]$, then one can show that the corresponding Q values are bounded given by the following equation:\n",
    "\n",
    "$  \\sum_{t'=t}^{T} \\gamma^{t'-t} |r_{t'}| \\le \\sum_{t'=t}^{\\infty} \\gamma^{t'-t} |r_{t'}| \\le \\sum_{t'=t}^{\\infty} \\gamma^{t'-t} = \\frac{1}{1-\\gamma}  $"
   ]
  },
  {
   "cell_type": "markdown",
   "id": "100cf897",
   "metadata": {},
   "source": [
    "According to this, any Q-value is theoretically bounded by the above equation. In our case, by $100$ (given a discount rate of $0.99$). Hence, if the Q-value exceeds this bound, we say that soft divergence occurs."
   ]
  },
  {
   "cell_type": "markdown",
   "id": "24bb6b28",
   "metadata": {},
   "source": [
    "## Priotized experience replay "
   ]
  },
  {
   "cell_type": "markdown",
   "id": "4e293a04",
   "metadata": {},
   "source": [
    "**To be done**\n",
    "\n",
    "Here I will ad a few comments about priotized experience replay.\n"
   ]
  },
  {
   "cell_type": "markdown",
   "id": "f5c1ff58",
   "metadata": {},
   "source": [
    "## Dueling Deep Reinforcement learning -D3QN"
   ]
  },
  {
   "cell_type": "markdown",
   "id": "ddcfc00e",
   "metadata": {},
   "source": [
    "**To be done**\n",
    "\n",
    "Here I will add a few lines over D3QN."
   ]
  },
  {
   "cell_type": "markdown",
   "id": "636a6f95",
   "metadata": {},
   "source": [
    "This tutorial is inspired by Pylessons. You can find the tutorials here [Pylessons](https://pylessons.com/CartPole-DDDQN). The idea of using a dueling deep reinforcement algorithm was introduced by [Wang et al. (2016).](https://arxiv.org/pdf/1511.06581.pdf).\n",
    "\n",
    "[medium](https://markelsanz14.medium.com/introduction-to-reinforcement-learning-part-4-double-dqn-and-dueling-dqn-b349c9a61ea1)"
   ]
  }
 ],
 "metadata": {
  "kernelspec": {
   "display_name": "Python 3 (ipykernel)",
   "language": "python",
   "name": "python3"
  },
  "language_info": {
   "codemirror_mode": {
    "name": "ipython",
    "version": 3
   },
   "file_extension": ".py",
   "mimetype": "text/x-python",
   "name": "python",
   "nbconvert_exporter": "python",
   "pygments_lexer": "ipython3",
   "version": "3.9.7"
  }
 },
 "nbformat": 4,
 "nbformat_minor": 5
}
